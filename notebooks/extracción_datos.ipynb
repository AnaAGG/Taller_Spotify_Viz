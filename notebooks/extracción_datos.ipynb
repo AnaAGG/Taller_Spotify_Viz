{
 "cells": [
  {
   "attachments": {},
   "cell_type": "markdown",
   "metadata": {},
   "source": [
    "https://www.kaggle.com/datasets/leonardopena/top-spotify-songs-from-20102019-by-year\n",
    "\n",
    "INTERESANTE https://towardsdatascience.com/identifying-drivers-of-spotify-song-popularity-with-causal-ml-934e8347d2aa"
   ]
  },
  {
   "cell_type": "code",
   "execution_count": 30,
   "metadata": {},
   "outputs": [],
   "source": [
    "\n",
    "import pandas as pd\n",
    "import numpy as np\n",
    "import seaborn as sns\n",
    "import matplotlib.pyplot as plt\n",
    "\n",
    "import sys\n",
    "sys.path.append(\"../\")\n",
    "from src import api_spotify_support as api"
   ]
  },
  {
   "cell_type": "code",
   "execution_count": 31,
   "metadata": {},
   "outputs": [],
   "source": [
    "sp = api.create_credentials()\n"
   ]
  },
  {
   "cell_type": "code",
   "execution_count": 32,
   "metadata": {},
   "outputs": [],
   "source": [
    "url = \"https://open.spotify.com/playlist/12ibqZIq3YFzTMhl4Kmy6Q?si=0f314b6802ac4c06\""
   ]
  },
  {
   "cell_type": "code",
   "execution_count": 33,
   "metadata": {},
   "outputs": [],
   "source": [
    "nombre_lista = \"la mejor musica de todos los tiempos\""
   ]
  },
  {
   "cell_type": "code",
   "execution_count": 34,
   "metadata": {},
   "outputs": [
    {
     "data": {
      "text/plain": [
       "'12ibqZIq3YFzTMhl4Kmy6Q'"
      ]
     },
     "execution_count": 34,
     "metadata": {},
     "output_type": "execute_result"
    }
   ],
   "source": [
    "uri_playlist = api.prepare_url(url)\n",
    "uri_playlist"
   ]
  },
  {
   "cell_type": "code",
   "execution_count": 35,
   "metadata": {},
   "outputs": [],
   "source": [
    "all_songs = api.extract_songs(sp, uri_playlist, numero_canciones=143)"
   ]
  },
  {
   "cell_type": "code",
   "execution_count": 36,
   "metadata": {},
   "outputs": [
    {
     "data": {
      "text/html": [
       "<div>\n",
       "<style scoped>\n",
       "    .dataframe tbody tr th:only-of-type {\n",
       "        vertical-align: middle;\n",
       "    }\n",
       "\n",
       "    .dataframe tbody tr th {\n",
       "        vertical-align: top;\n",
       "    }\n",
       "\n",
       "    .dataframe thead th {\n",
       "        text-align: right;\n",
       "    }\n",
       "</style>\n",
       "<table border=\"1\" class=\"dataframe\">\n",
       "  <thead>\n",
       "    <tr style=\"text-align: right;\">\n",
       "      <th></th>\n",
       "      <th>song</th>\n",
       "      <th>artist</th>\n",
       "      <th>date</th>\n",
       "      <th>explicit</th>\n",
       "      <th>uri_cancion</th>\n",
       "      <th>popularity</th>\n",
       "      <th>ironhacker</th>\n",
       "      <th>links</th>\n",
       "      <th>uri_artista</th>\n",
       "    </tr>\n",
       "  </thead>\n",
       "  <tbody>\n",
       "    <tr>\n",
       "      <th>0</th>\n",
       "      <td>The Way It Is</td>\n",
       "      <td>[Bruce Hornsby, The Range]</td>\n",
       "      <td>1986-06-02</td>\n",
       "      <td>False</td>\n",
       "      <td>spotify:track:6V50MyHPGhEmwYu0Wdyf0t</td>\n",
       "      <td>71</td>\n",
       "      <td>miguel.1962.mas</td>\n",
       "      <td>https://open.spotify.com/track/6V50MyHPGhEmwYu...</td>\n",
       "      <td>[2iM28IgKg89v1o7BTQAVPo, 4374DY0rBAi0pCV6F9i00Y]</td>\n",
       "    </tr>\n",
       "    <tr>\n",
       "      <th>1</th>\n",
       "      <td>The Captain of Her Heart</td>\n",
       "      <td>Double</td>\n",
       "      <td>1985</td>\n",
       "      <td>False</td>\n",
       "      <td>spotify:track:5EwltLwI9hRLyiTUAjMsQ6</td>\n",
       "      <td>60</td>\n",
       "      <td>miguel.1962.mas</td>\n",
       "      <td>https://open.spotify.com/track/5EwltLwI9hRLyiT...</td>\n",
       "      <td>4NOA8osMRoNN1FZ5vrR4y2</td>\n",
       "    </tr>\n",
       "    <tr>\n",
       "      <th>2</th>\n",
       "      <td>More Than I Can Bear</td>\n",
       "      <td>Matt Bianco</td>\n",
       "      <td>1990-01-01</td>\n",
       "      <td>False</td>\n",
       "      <td>spotify:track:0vBtGdmfgquSa3iRIbsa25</td>\n",
       "      <td>51</td>\n",
       "      <td>miguel.1962.mas</td>\n",
       "      <td>https://open.spotify.com/track/0vBtGdmfgquSa3i...</td>\n",
       "      <td>1WQky50vkzSvSCUl0ejWqb</td>\n",
       "    </tr>\n",
       "    <tr>\n",
       "      <th>3</th>\n",
       "      <td>Lovemachine</td>\n",
       "      <td>Supermax</td>\n",
       "      <td>1977-09-26</td>\n",
       "      <td>False</td>\n",
       "      <td>spotify:track:2A9EqW476Cp9z8PqQE4pPN</td>\n",
       "      <td>43</td>\n",
       "      <td>miguel.1962.mas</td>\n",
       "      <td>https://open.spotify.com/track/2A9EqW476Cp9z8P...</td>\n",
       "      <td>0uIhbmH4ljZzKm8xGgsXok</td>\n",
       "    </tr>\n",
       "    <tr>\n",
       "      <th>4</th>\n",
       "      <td>Crazy</td>\n",
       "      <td>Gnarls Barkley</td>\n",
       "      <td>2006-04-24</td>\n",
       "      <td>False</td>\n",
       "      <td>spotify:track:1vxw6aYJls2oq3gW0DujAo</td>\n",
       "      <td>79</td>\n",
       "      <td>miguel.1962.mas</td>\n",
       "      <td>https://open.spotify.com/track/1vxw6aYJls2oq3g...</td>\n",
       "      <td>5SbkVQYYzlw1kte75QIabH</td>\n",
       "    </tr>\n",
       "  </tbody>\n",
       "</table>\n",
       "</div>"
      ],
      "text/plain": [
       "                       song                      artist        date  explicit  \\\n",
       "0             The Way It Is  [Bruce Hornsby, The Range]  1986-06-02     False   \n",
       "1  The Captain of Her Heart                      Double        1985     False   \n",
       "2      More Than I Can Bear                 Matt Bianco  1990-01-01     False   \n",
       "3               Lovemachine                    Supermax  1977-09-26     False   \n",
       "4                     Crazy              Gnarls Barkley  2006-04-24     False   \n",
       "\n",
       "                            uri_cancion  popularity       ironhacker  \\\n",
       "0  spotify:track:6V50MyHPGhEmwYu0Wdyf0t          71  miguel.1962.mas   \n",
       "1  spotify:track:5EwltLwI9hRLyiTUAjMsQ6          60  miguel.1962.mas   \n",
       "2  spotify:track:0vBtGdmfgquSa3iRIbsa25          51  miguel.1962.mas   \n",
       "3  spotify:track:2A9EqW476Cp9z8PqQE4pPN          43  miguel.1962.mas   \n",
       "4  spotify:track:1vxw6aYJls2oq3gW0DujAo          79  miguel.1962.mas   \n",
       "\n",
       "                                               links  \\\n",
       "0  https://open.spotify.com/track/6V50MyHPGhEmwYu...   \n",
       "1  https://open.spotify.com/track/5EwltLwI9hRLyiT...   \n",
       "2  https://open.spotify.com/track/0vBtGdmfgquSa3i...   \n",
       "3  https://open.spotify.com/track/2A9EqW476Cp9z8P...   \n",
       "4  https://open.spotify.com/track/1vxw6aYJls2oq3g...   \n",
       "\n",
       "                                        uri_artista  \n",
       "0  [2iM28IgKg89v1o7BTQAVPo, 4374DY0rBAi0pCV6F9i00Y]  \n",
       "1                            4NOA8osMRoNN1FZ5vrR4y2  \n",
       "2                            1WQky50vkzSvSCUl0ejWqb  \n",
       "3                            0uIhbmH4ljZzKm8xGgsXok  \n",
       "4                            5SbkVQYYzlw1kte75QIabH  "
      ]
     },
     "execution_count": 36,
     "metadata": {},
     "output_type": "execute_result"
    }
   ],
   "source": [
    "df_all_songs = api.clean_data( all_songs)\n",
    "df_all_songs.head()"
   ]
  },
  {
   "cell_type": "code",
   "execution_count": 37,
   "metadata": {},
   "outputs": [],
   "source": [
    "listas_uris_canciones = df_all_songs[\"uri_cancion\"].unique().tolist()"
   ]
  },
  {
   "cell_type": "code",
   "execution_count": 38,
   "metadata": {},
   "outputs": [
    {
     "data": {
      "text/html": [
       "<div>\n",
       "<style scoped>\n",
       "    .dataframe tbody tr th:only-of-type {\n",
       "        vertical-align: middle;\n",
       "    }\n",
       "\n",
       "    .dataframe tbody tr th {\n",
       "        vertical-align: top;\n",
       "    }\n",
       "\n",
       "    .dataframe thead th {\n",
       "        text-align: right;\n",
       "    }\n",
       "</style>\n",
       "<table border=\"1\" class=\"dataframe\">\n",
       "  <thead>\n",
       "    <tr style=\"text-align: right;\">\n",
       "      <th></th>\n",
       "      <th>song</th>\n",
       "      <th>artist</th>\n",
       "      <th>date</th>\n",
       "      <th>explicit</th>\n",
       "      <th>uri_cancion</th>\n",
       "      <th>popularity</th>\n",
       "      <th>ironhacker</th>\n",
       "      <th>links</th>\n",
       "      <th>uri_artista</th>\n",
       "      <th>danceability</th>\n",
       "      <th>...</th>\n",
       "      <th>liveness</th>\n",
       "      <th>valence</th>\n",
       "      <th>tempo</th>\n",
       "      <th>type</th>\n",
       "      <th>id</th>\n",
       "      <th>uri</th>\n",
       "      <th>track_href</th>\n",
       "      <th>analysis_url</th>\n",
       "      <th>duration_ms</th>\n",
       "      <th>time_signature</th>\n",
       "    </tr>\n",
       "  </thead>\n",
       "  <tbody>\n",
       "    <tr>\n",
       "      <th>0</th>\n",
       "      <td>The Way It Is</td>\n",
       "      <td>[Bruce Hornsby, The Range]</td>\n",
       "      <td>1986-06-02</td>\n",
       "      <td>False</td>\n",
       "      <td>spotify:track:6V50MyHPGhEmwYu0Wdyf0t</td>\n",
       "      <td>71</td>\n",
       "      <td>miguel.1962.mas</td>\n",
       "      <td>https://open.spotify.com/track/6V50MyHPGhEmwYu...</td>\n",
       "      <td>[2iM28IgKg89v1o7BTQAVPo, 4374DY0rBAi0pCV6F9i00Y]</td>\n",
       "      <td>0.582</td>\n",
       "      <td>...</td>\n",
       "      <td>0.145</td>\n",
       "      <td>0.531</td>\n",
       "      <td>111.166</td>\n",
       "      <td>audio_features</td>\n",
       "      <td>6V50MyHPGhEmwYu0Wdyf0t</td>\n",
       "      <td>spotify:track:6V50MyHPGhEmwYu0Wdyf0t</td>\n",
       "      <td>https://api.spotify.com/v1/tracks/6V50MyHPGhEm...</td>\n",
       "      <td>https://api.spotify.com/v1/audio-analysis/6V50...</td>\n",
       "      <td>297853</td>\n",
       "      <td>4</td>\n",
       "    </tr>\n",
       "    <tr>\n",
       "      <th>1</th>\n",
       "      <td>The Captain of Her Heart</td>\n",
       "      <td>Double</td>\n",
       "      <td>1985</td>\n",
       "      <td>False</td>\n",
       "      <td>spotify:track:5EwltLwI9hRLyiTUAjMsQ6</td>\n",
       "      <td>60</td>\n",
       "      <td>miguel.1962.mas</td>\n",
       "      <td>https://open.spotify.com/track/5EwltLwI9hRLyiT...</td>\n",
       "      <td>4NOA8osMRoNN1FZ5vrR4y2</td>\n",
       "      <td>0.671</td>\n",
       "      <td>...</td>\n",
       "      <td>0.118</td>\n",
       "      <td>0.385</td>\n",
       "      <td>96.281</td>\n",
       "      <td>audio_features</td>\n",
       "      <td>5EwltLwI9hRLyiTUAjMsQ6</td>\n",
       "      <td>spotify:track:5EwltLwI9hRLyiTUAjMsQ6</td>\n",
       "      <td>https://api.spotify.com/v1/tracks/5EwltLwI9hRL...</td>\n",
       "      <td>https://api.spotify.com/v1/audio-analysis/5Ewl...</td>\n",
       "      <td>274617</td>\n",
       "      <td>4</td>\n",
       "    </tr>\n",
       "  </tbody>\n",
       "</table>\n",
       "<p>2 rows × 27 columns</p>\n",
       "</div>"
      ],
      "text/plain": [
       "                       song                      artist        date  explicit  \\\n",
       "0             The Way It Is  [Bruce Hornsby, The Range]  1986-06-02     False   \n",
       "1  The Captain of Her Heart                      Double        1985     False   \n",
       "\n",
       "                            uri_cancion  popularity       ironhacker  \\\n",
       "0  spotify:track:6V50MyHPGhEmwYu0Wdyf0t          71  miguel.1962.mas   \n",
       "1  spotify:track:5EwltLwI9hRLyiTUAjMsQ6          60  miguel.1962.mas   \n",
       "\n",
       "                                               links  \\\n",
       "0  https://open.spotify.com/track/6V50MyHPGhEmwYu...   \n",
       "1  https://open.spotify.com/track/5EwltLwI9hRLyiT...   \n",
       "\n",
       "                                        uri_artista  danceability  ...  \\\n",
       "0  [2iM28IgKg89v1o7BTQAVPo, 4374DY0rBAi0pCV6F9i00Y]         0.582  ...   \n",
       "1                            4NOA8osMRoNN1FZ5vrR4y2         0.671  ...   \n",
       "\n",
       "   liveness  valence    tempo            type                      id  \\\n",
       "0     0.145    0.531  111.166  audio_features  6V50MyHPGhEmwYu0Wdyf0t   \n",
       "1     0.118    0.385   96.281  audio_features  5EwltLwI9hRLyiTUAjMsQ6   \n",
       "\n",
       "                                    uri  \\\n",
       "0  spotify:track:6V50MyHPGhEmwYu0Wdyf0t   \n",
       "1  spotify:track:5EwltLwI9hRLyiTUAjMsQ6   \n",
       "\n",
       "                                          track_href  \\\n",
       "0  https://api.spotify.com/v1/tracks/6V50MyHPGhEm...   \n",
       "1  https://api.spotify.com/v1/tracks/5EwltLwI9hRL...   \n",
       "\n",
       "                                        analysis_url  duration_ms  \\\n",
       "0  https://api.spotify.com/v1/audio-analysis/6V50...       297853   \n",
       "1  https://api.spotify.com/v1/audio-analysis/5Ewl...       274617   \n",
       "\n",
       "   time_signature  \n",
       "0               4  \n",
       "1               4  \n",
       "\n",
       "[2 rows x 27 columns]"
      ]
     },
     "execution_count": 38,
     "metadata": {},
     "output_type": "execute_result"
    }
   ],
   "source": [
    "df_final = api.get_features(sp, df_all_songs, listas_uris_canciones )\n",
    "df_final.head(2)"
   ]
  },
  {
   "cell_type": "code",
   "execution_count": 39,
   "metadata": {},
   "outputs": [
    {
     "data": {
      "text/html": [
       "<div>\n",
       "<style scoped>\n",
       "    .dataframe tbody tr th:only-of-type {\n",
       "        vertical-align: middle;\n",
       "    }\n",
       "\n",
       "    .dataframe tbody tr th {\n",
       "        vertical-align: top;\n",
       "    }\n",
       "\n",
       "    .dataframe thead th {\n",
       "        text-align: right;\n",
       "    }\n",
       "</style>\n",
       "<table border=\"1\" class=\"dataframe\">\n",
       "  <thead>\n",
       "    <tr style=\"text-align: right;\">\n",
       "      <th></th>\n",
       "      <th>song</th>\n",
       "      <th>date</th>\n",
       "      <th>popularity</th>\n",
       "      <th>ironhacker</th>\n",
       "      <th>artist</th>\n",
       "      <th>uri_artista</th>\n",
       "      <th>uri_cancion</th>\n",
       "    </tr>\n",
       "  </thead>\n",
       "  <tbody>\n",
       "    <tr>\n",
       "      <th>0</th>\n",
       "      <td>The Way It Is</td>\n",
       "      <td>1986-06-02</td>\n",
       "      <td>71</td>\n",
       "      <td>miguel.1962.mas</td>\n",
       "      <td>Bruce Hornsby</td>\n",
       "      <td>2iM28IgKg89v1o7BTQAVPo</td>\n",
       "      <td>spotify:track:6V50MyHPGhEmwYu0Wdyf0t</td>\n",
       "    </tr>\n",
       "    <tr>\n",
       "      <th>0</th>\n",
       "      <td>The Way It Is</td>\n",
       "      <td>1986-06-02</td>\n",
       "      <td>71</td>\n",
       "      <td>miguel.1962.mas</td>\n",
       "      <td>Bruce Hornsby</td>\n",
       "      <td>4374DY0rBAi0pCV6F9i00Y</td>\n",
       "      <td>spotify:track:6V50MyHPGhEmwYu0Wdyf0t</td>\n",
       "    </tr>\n",
       "  </tbody>\n",
       "</table>\n",
       "</div>"
      ],
      "text/plain": [
       "            song        date  popularity       ironhacker         artist  \\\n",
       "0  The Way It Is  1986-06-02          71  miguel.1962.mas  Bruce Hornsby   \n",
       "0  The Way It Is  1986-06-02          71  miguel.1962.mas  Bruce Hornsby   \n",
       "\n",
       "              uri_artista                           uri_cancion  \n",
       "0  2iM28IgKg89v1o7BTQAVPo  spotify:track:6V50MyHPGhEmwYu0Wdyf0t  \n",
       "0  4374DY0rBAi0pCV6F9i00Y  spotify:track:6V50MyHPGhEmwYu0Wdyf0t  "
      ]
     },
     "execution_count": 39,
     "metadata": {},
     "output_type": "execute_result"
    }
   ],
   "source": [
    "df_final = api.clean_df(df_final)\n",
    "df_final.head(2)"
   ]
  },
  {
   "cell_type": "code",
   "execution_count": 40,
   "metadata": {},
   "outputs": [
    {
     "data": {
      "text/plain": [
       "144"
      ]
     },
     "execution_count": 40,
     "metadata": {},
     "output_type": "execute_result"
    }
   ],
   "source": [
    "uri_artistas = df_final[\"uri_artista\"].unique()\n",
    "len(uri_artistas)"
   ]
  },
  {
   "cell_type": "code",
   "execution_count": 41,
   "metadata": {},
   "outputs": [
    {
     "data": {
      "text/html": [
       "<div>\n",
       "<style scoped>\n",
       "    .dataframe tbody tr th:only-of-type {\n",
       "        vertical-align: middle;\n",
       "    }\n",
       "\n",
       "    .dataframe tbody tr th {\n",
       "        vertical-align: top;\n",
       "    }\n",
       "\n",
       "    .dataframe thead th {\n",
       "        text-align: right;\n",
       "    }\n",
       "</style>\n",
       "<table border=\"1\" class=\"dataframe\">\n",
       "  <thead>\n",
       "    <tr style=\"text-align: right;\">\n",
       "      <th></th>\n",
       "      <th>artist_name</th>\n",
       "      <th>album_name</th>\n",
       "      <th>release_date</th>\n",
       "      <th>total_tracks</th>\n",
       "    </tr>\n",
       "  </thead>\n",
       "  <tbody>\n",
       "    <tr>\n",
       "      <th>0</th>\n",
       "      <td>Bruce Hornsby</td>\n",
       "      <td>'Flicted</td>\n",
       "      <td>2022-05-27</td>\n",
       "      <td>12</td>\n",
       "    </tr>\n",
       "    <tr>\n",
       "      <th>1</th>\n",
       "      <td>Bruce Hornsby</td>\n",
       "      <td>Window Display (Live 1988)</td>\n",
       "      <td>2021-11-03</td>\n",
       "      <td>11</td>\n",
       "    </tr>\n",
       "    <tr>\n",
       "      <th>2</th>\n",
       "      <td>Bruce Hornsby</td>\n",
       "      <td>Talking In A Whisper (Live In L.A. 1994)</td>\n",
       "      <td>2021-02-01</td>\n",
       "      <td>9</td>\n",
       "    </tr>\n",
       "    <tr>\n",
       "      <th>3</th>\n",
       "      <td>Bruce Hornsby</td>\n",
       "      <td>Marking Time (Daytona Beach, Fl. '87)</td>\n",
       "      <td>2020-09-28</td>\n",
       "      <td>10</td>\n",
       "    </tr>\n",
       "    <tr>\n",
       "      <th>4</th>\n",
       "      <td>Bruce Hornsby</td>\n",
       "      <td>Non-Secure Connection</td>\n",
       "      <td>2020-08-14</td>\n",
       "      <td>10</td>\n",
       "    </tr>\n",
       "  </tbody>\n",
       "</table>\n",
       "</div>"
      ],
      "text/plain": [
       "     artist_name                                album_name release_date  \\\n",
       "0  Bruce Hornsby                                  'Flicted   2022-05-27   \n",
       "1  Bruce Hornsby                Window Display (Live 1988)   2021-11-03   \n",
       "2  Bruce Hornsby  Talking In A Whisper (Live In L.A. 1994)   2021-02-01   \n",
       "3  Bruce Hornsby     Marking Time (Daytona Beach, Fl. '87)   2020-09-28   \n",
       "4  Bruce Hornsby                     Non-Secure Connection   2020-08-14   \n",
       "\n",
       "   total_tracks  \n",
       "0            12  \n",
       "1            11  \n",
       "2             9  \n",
       "3            10  \n",
       "4            10  "
      ]
     },
     "execution_count": 41,
     "metadata": {},
     "output_type": "execute_result"
    }
   ],
   "source": [
    "df_artistas_albumes = api.get_artist_album(sp, uri_artistas)\n",
    "df_artistas_albumes.head()"
   ]
  },
  {
   "cell_type": "code",
   "execution_count": 42,
   "metadata": {},
   "outputs": [
    {
     "data": {
      "text/html": [
       "<div>\n",
       "<style scoped>\n",
       "    .dataframe tbody tr th:only-of-type {\n",
       "        vertical-align: middle;\n",
       "    }\n",
       "\n",
       "    .dataframe tbody tr th {\n",
       "        vertical-align: top;\n",
       "    }\n",
       "\n",
       "    .dataframe thead th {\n",
       "        text-align: right;\n",
       "    }\n",
       "</style>\n",
       "<table border=\"1\" class=\"dataframe\">\n",
       "  <thead>\n",
       "    <tr style=\"text-align: right;\">\n",
       "      <th></th>\n",
       "      <th>artist_name</th>\n",
       "      <th>artist_id</th>\n",
       "      <th>followers</th>\n",
       "      <th>genres</th>\n",
       "      <th>popularity</th>\n",
       "    </tr>\n",
       "  </thead>\n",
       "  <tbody>\n",
       "    <tr>\n",
       "      <th>0</th>\n",
       "      <td>Bruce Hornsby</td>\n",
       "      <td>2iM28IgKg89v1o7BTQAVPo</td>\n",
       "      <td>358615</td>\n",
       "      <td>[album rock, heartland rock, mellow gold, pian...</td>\n",
       "      <td>55</td>\n",
       "    </tr>\n",
       "    <tr>\n",
       "      <th>0</th>\n",
       "      <td>The Range</td>\n",
       "      <td>4374DY0rBAi0pCV6F9i00Y</td>\n",
       "      <td>3493</td>\n",
       "      <td>[soft rock]</td>\n",
       "      <td>55</td>\n",
       "    </tr>\n",
       "    <tr>\n",
       "      <th>0</th>\n",
       "      <td>Double</td>\n",
       "      <td>4NOA8osMRoNN1FZ5vrR4y2</td>\n",
       "      <td>10423</td>\n",
       "      <td>[new wave pop, sophisti-pop]</td>\n",
       "      <td>45</td>\n",
       "    </tr>\n",
       "    <tr>\n",
       "      <th>0</th>\n",
       "      <td>Matt Bianco</td>\n",
       "      <td>1WQky50vkzSvSCUl0ejWqb</td>\n",
       "      <td>85346</td>\n",
       "      <td>[sophisti-pop]</td>\n",
       "      <td>44</td>\n",
       "    </tr>\n",
       "    <tr>\n",
       "      <th>0</th>\n",
       "      <td>Supermax</td>\n",
       "      <td>0uIhbmH4ljZzKm8xGgsXok</td>\n",
       "      <td>11953</td>\n",
       "      <td>[]</td>\n",
       "      <td>30</td>\n",
       "    </tr>\n",
       "  </tbody>\n",
       "</table>\n",
       "</div>"
      ],
      "text/plain": [
       "     artist_name               artist_id  followers  \\\n",
       "0  Bruce Hornsby  2iM28IgKg89v1o7BTQAVPo     358615   \n",
       "0      The Range  4374DY0rBAi0pCV6F9i00Y       3493   \n",
       "0         Double  4NOA8osMRoNN1FZ5vrR4y2      10423   \n",
       "0    Matt Bianco  1WQky50vkzSvSCUl0ejWqb      85346   \n",
       "0       Supermax  0uIhbmH4ljZzKm8xGgsXok      11953   \n",
       "\n",
       "                                              genres  popularity  \n",
       "0  [album rock, heartland rock, mellow gold, pian...          55  \n",
       "0                                        [soft rock]          55  \n",
       "0                       [new wave pop, sophisti-pop]          45  \n",
       "0                                     [sophisti-pop]          44  \n",
       "0                                                 []          30  "
      ]
     },
     "execution_count": 42,
     "metadata": {},
     "output_type": "execute_result"
    }
   ],
   "source": [
    "df_info_artistas = api.get_artist_data(sp, uri_artistas)\n",
    "df_info_artistas.head()"
   ]
  },
  {
   "cell_type": "code",
   "execution_count": 43,
   "metadata": {},
   "outputs": [
    {
     "data": {
      "text/plain": [
       "False"
      ]
     },
     "execution_count": 43,
     "metadata": {},
     "output_type": "execute_result"
    }
   ],
   "source": [
    "len(df_info_artistas[\"artist_name\"].unique()) == len(df_artistas_albumes[\"artist_name\"].unique())"
   ]
  },
  {
   "cell_type": "code",
   "execution_count": null,
   "metadata": {},
   "outputs": [],
   "source": []
  }
 ],
 "metadata": {
  "kernelspec": {
   "display_name": "ironhack",
   "language": "python",
   "name": "python3"
  },
  "language_info": {
   "codemirror_mode": {
    "name": "ipython",
    "version": 3
   },
   "file_extension": ".py",
   "mimetype": "text/x-python",
   "name": "python",
   "nbconvert_exporter": "python",
   "pygments_lexer": "ipython3",
   "version": "3.10.10"
  },
  "orig_nbformat": 4
 },
 "nbformat": 4,
 "nbformat_minor": 2
}
