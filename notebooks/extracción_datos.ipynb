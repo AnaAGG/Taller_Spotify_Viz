{
 "cells": [
  {
   "attachments": {},
   "cell_type": "markdown",
   "metadata": {},
   "source": [
    "https://www.kaggle.com/datasets/leonardopena/top-spotify-songs-from-20102019-by-year\n",
    "\n",
    "INTERESANTE https://towardsdatascience.com/identifying-drivers-of-spotify-song-popularity-with-causal-ml-934e8347d2aa\n",
    "\n",
    "- sacar mas musica de los 60\n"
   ]
  },
  {
   "cell_type": "code",
   "execution_count": 7,
   "metadata": {},
   "outputs": [],
   "source": [
    "\n",
    "import pandas as pd\n",
    "import numpy as np\n",
    "import seaborn as sns\n",
    "import matplotlib.pyplot as plt\n",
    "\n",
    "import sys\n",
    "sys.path.append(\"../\")\n",
    "from src import api_spotify_support as api"
   ]
  },
  {
   "cell_type": "code",
   "execution_count": 8,
   "metadata": {},
   "outputs": [
    {
     "name": "stdout",
     "output_type": "stream",
     "text": [
      "ad0555441b4947759782454a4b77a204\n",
      "39944cff2def432b9abe077059f09352\n"
     ]
    }
   ],
   "source": [
    "sp = api.create_credentials()\n"
   ]
  },
  {
   "cell_type": "code",
   "execution_count": 9,
   "metadata": {},
   "outputs": [],
   "source": [
    "url = \"https://open.spotify.com/playlist/4DOP4ViReFpcrtXZQIzlZZ?si=cd2d079390204e7e\" # lista de los 70, 80,  90, 304 canciones"
   ]
  },
  {
   "cell_type": "code",
   "execution_count": 10,
   "metadata": {},
   "outputs": [],
   "source": [
    "nombre_lista = \"musica de los 70,80,90\""
   ]
  },
  {
   "cell_type": "code",
   "execution_count": 11,
   "metadata": {},
   "outputs": [
    {
     "data": {
      "text/plain": [
       "'4DOP4ViReFpcrtXZQIzlZZ'"
      ]
     },
     "execution_count": 11,
     "metadata": {},
     "output_type": "execute_result"
    }
   ],
   "source": [
    "uri_playlist = api.prepare_url(url)\n",
    "uri_playlist"
   ]
  },
  {
   "cell_type": "code",
   "execution_count": 12,
   "metadata": {},
   "outputs": [
    {
     "name": "stdout",
     "output_type": "stream",
     "text": [
      "4\n"
     ]
    }
   ],
   "source": [
    "all_songs = api.extract_songs(sp, uri_playlist)"
   ]
  },
  {
   "cell_type": "code",
   "execution_count": 13,
   "metadata": {},
   "outputs": [
    {
     "data": {
      "text/html": [
       "<div>\n",
       "<style scoped>\n",
       "    .dataframe tbody tr th:only-of-type {\n",
       "        vertical-align: middle;\n",
       "    }\n",
       "\n",
       "    .dataframe tbody tr th {\n",
       "        vertical-align: top;\n",
       "    }\n",
       "\n",
       "    .dataframe thead th {\n",
       "        text-align: right;\n",
       "    }\n",
       "</style>\n",
       "<table border=\"1\" class=\"dataframe\">\n",
       "  <thead>\n",
       "    <tr style=\"text-align: right;\">\n",
       "      <th></th>\n",
       "      <th>song</th>\n",
       "      <th>artist</th>\n",
       "      <th>date</th>\n",
       "      <th>explicit</th>\n",
       "      <th>uri_cancion</th>\n",
       "      <th>popularity</th>\n",
       "      <th>usuario</th>\n",
       "      <th>links</th>\n",
       "      <th>uri_artista</th>\n",
       "    </tr>\n",
       "  </thead>\n",
       "  <tbody>\n",
       "    <tr>\n",
       "      <th>0</th>\n",
       "      <td>Take on Me</td>\n",
       "      <td>a-ha</td>\n",
       "      <td>1985-06-01</td>\n",
       "      <td>False</td>\n",
       "      <td>spotify:track:2WfaOiMkCvy7F5fcp2zZ8L</td>\n",
       "      <td>87</td>\n",
       "      <td>12177422298</td>\n",
       "      <td>https://open.spotify.com/track/2WfaOiMkCvy7F5f...</td>\n",
       "      <td>2jzc5TC5TVFLXQlBNiIUzE</td>\n",
       "    </tr>\n",
       "    <tr>\n",
       "      <th>1</th>\n",
       "      <td>Every Breath You Take</td>\n",
       "      <td>The Police</td>\n",
       "      <td>1983-06-17</td>\n",
       "      <td>False</td>\n",
       "      <td>spotify:track:1JSTJqkT5qHq8MDJnJbRE1</td>\n",
       "      <td>88</td>\n",
       "      <td>12177422298</td>\n",
       "      <td>https://open.spotify.com/track/1JSTJqkT5qHq8MD...</td>\n",
       "      <td>5NGO30tJxFlKixkPSgXcFE</td>\n",
       "    </tr>\n",
       "    <tr>\n",
       "      <th>2</th>\n",
       "      <td>Careless Whisper</td>\n",
       "      <td>George Michael</td>\n",
       "      <td>1998-11-09</td>\n",
       "      <td>False</td>\n",
       "      <td>spotify:track:4jDmJ51x1o9NZB5Nxxc7gY</td>\n",
       "      <td>81</td>\n",
       "      <td>12177422298</td>\n",
       "      <td>https://open.spotify.com/track/4jDmJ51x1o9NZB5...</td>\n",
       "      <td>19ra5tSw0tWufvUp8GotLo</td>\n",
       "    </tr>\n",
       "    <tr>\n",
       "      <th>3</th>\n",
       "      <td>Karma Chameleon - Remastered 2002</td>\n",
       "      <td>Culture Club</td>\n",
       "      <td>1983-10-01</td>\n",
       "      <td>False</td>\n",
       "      <td>spotify:track:2wSAWEYUHkt92X4SBAPqZE</td>\n",
       "      <td>77</td>\n",
       "      <td>12177422298</td>\n",
       "      <td>https://open.spotify.com/track/2wSAWEYUHkt92X4...</td>\n",
       "      <td>6kz53iCdBSqhQCZ21CoLcc</td>\n",
       "    </tr>\n",
       "    <tr>\n",
       "      <th>4</th>\n",
       "      <td>Girls Just Want to Have Fun</td>\n",
       "      <td>Cyndi Lauper</td>\n",
       "      <td>1983-10-14</td>\n",
       "      <td>False</td>\n",
       "      <td>spotify:track:4y1LsJpmMti1PfRQV9AWWe</td>\n",
       "      <td>81</td>\n",
       "      <td>12177422298</td>\n",
       "      <td>https://open.spotify.com/track/4y1LsJpmMti1PfR...</td>\n",
       "      <td>2BTZIqw0ntH9MvilQ3ewNY</td>\n",
       "    </tr>\n",
       "  </tbody>\n",
       "</table>\n",
       "</div>"
      ],
      "text/plain": [
       "                                song          artist        date  explicit  \\\n",
       "0                         Take on Me            a-ha  1985-06-01     False   \n",
       "1              Every Breath You Take      The Police  1983-06-17     False   \n",
       "2                   Careless Whisper  George Michael  1998-11-09     False   \n",
       "3  Karma Chameleon - Remastered 2002    Culture Club  1983-10-01     False   \n",
       "4        Girls Just Want to Have Fun    Cyndi Lauper  1983-10-14     False   \n",
       "\n",
       "                            uri_cancion  popularity      usuario  \\\n",
       "0  spotify:track:2WfaOiMkCvy7F5fcp2zZ8L          87  12177422298   \n",
       "1  spotify:track:1JSTJqkT5qHq8MDJnJbRE1          88  12177422298   \n",
       "2  spotify:track:4jDmJ51x1o9NZB5Nxxc7gY          81  12177422298   \n",
       "3  spotify:track:2wSAWEYUHkt92X4SBAPqZE          77  12177422298   \n",
       "4  spotify:track:4y1LsJpmMti1PfRQV9AWWe          81  12177422298   \n",
       "\n",
       "                                               links             uri_artista  \n",
       "0  https://open.spotify.com/track/2WfaOiMkCvy7F5f...  2jzc5TC5TVFLXQlBNiIUzE  \n",
       "1  https://open.spotify.com/track/1JSTJqkT5qHq8MD...  5NGO30tJxFlKixkPSgXcFE  \n",
       "2  https://open.spotify.com/track/4jDmJ51x1o9NZB5...  19ra5tSw0tWufvUp8GotLo  \n",
       "3  https://open.spotify.com/track/2wSAWEYUHkt92X4...  6kz53iCdBSqhQCZ21CoLcc  \n",
       "4  https://open.spotify.com/track/4y1LsJpmMti1PfR...  2BTZIqw0ntH9MvilQ3ewNY  "
      ]
     },
     "execution_count": 13,
     "metadata": {},
     "output_type": "execute_result"
    }
   ],
   "source": [
    "df_all_songs = api.clean_data( all_songs)\n",
    "df_all_songs.head()"
   ]
  },
  {
   "cell_type": "code",
   "execution_count": 14,
   "metadata": {},
   "outputs": [],
   "source": [
    "listas_uris_canciones = df_all_songs[\"uri_cancion\"].unique().tolist()"
   ]
  },
  {
   "cell_type": "code",
   "execution_count": 15,
   "metadata": {},
   "outputs": [
    {
     "name": "stdout",
     "output_type": "stream",
     "text": [
      "293\n"
     ]
    }
   ],
   "source": [
    "print(len(listas_uris_canciones))"
   ]
  },
  {
   "cell_type": "code",
   "execution_count": 16,
   "metadata": {},
   "outputs": [
    {
     "data": {
      "text/html": [
       "<div>\n",
       "<style scoped>\n",
       "    .dataframe tbody tr th:only-of-type {\n",
       "        vertical-align: middle;\n",
       "    }\n",
       "\n",
       "    .dataframe tbody tr th {\n",
       "        vertical-align: top;\n",
       "    }\n",
       "\n",
       "    .dataframe thead th {\n",
       "        text-align: right;\n",
       "    }\n",
       "</style>\n",
       "<table border=\"1\" class=\"dataframe\">\n",
       "  <thead>\n",
       "    <tr style=\"text-align: right;\">\n",
       "      <th></th>\n",
       "      <th>song</th>\n",
       "      <th>artist</th>\n",
       "      <th>date</th>\n",
       "      <th>explicit</th>\n",
       "      <th>uri_cancion</th>\n",
       "      <th>popularity</th>\n",
       "      <th>usuario</th>\n",
       "      <th>links</th>\n",
       "      <th>uri_artista</th>\n",
       "      <th>danceability</th>\n",
       "      <th>...</th>\n",
       "      <th>liveness</th>\n",
       "      <th>valence</th>\n",
       "      <th>tempo</th>\n",
       "      <th>type</th>\n",
       "      <th>id</th>\n",
       "      <th>uri</th>\n",
       "      <th>track_href</th>\n",
       "      <th>analysis_url</th>\n",
       "      <th>duration_ms</th>\n",
       "      <th>time_signature</th>\n",
       "    </tr>\n",
       "  </thead>\n",
       "  <tbody>\n",
       "    <tr>\n",
       "      <th>0</th>\n",
       "      <td>Take on Me</td>\n",
       "      <td>a-ha</td>\n",
       "      <td>1985-06-01</td>\n",
       "      <td>False</td>\n",
       "      <td>spotify:track:2WfaOiMkCvy7F5fcp2zZ8L</td>\n",
       "      <td>87</td>\n",
       "      <td>12177422298</td>\n",
       "      <td>https://open.spotify.com/track/2WfaOiMkCvy7F5f...</td>\n",
       "      <td>2jzc5TC5TVFLXQlBNiIUzE</td>\n",
       "      <td>0.573</td>\n",
       "      <td>...</td>\n",
       "      <td>0.0928</td>\n",
       "      <td>0.876</td>\n",
       "      <td>84.412</td>\n",
       "      <td>audio_features</td>\n",
       "      <td>2WfaOiMkCvy7F5fcp2zZ8L</td>\n",
       "      <td>spotify:track:2WfaOiMkCvy7F5fcp2zZ8L</td>\n",
       "      <td>https://api.spotify.com/v1/tracks/2WfaOiMkCvy7...</td>\n",
       "      <td>https://api.spotify.com/v1/audio-analysis/2Wfa...</td>\n",
       "      <td>225280</td>\n",
       "      <td>4</td>\n",
       "    </tr>\n",
       "    <tr>\n",
       "      <th>1</th>\n",
       "      <td>Every Breath You Take</td>\n",
       "      <td>The Police</td>\n",
       "      <td>1983-06-17</td>\n",
       "      <td>False</td>\n",
       "      <td>spotify:track:1JSTJqkT5qHq8MDJnJbRE1</td>\n",
       "      <td>88</td>\n",
       "      <td>12177422298</td>\n",
       "      <td>https://open.spotify.com/track/1JSTJqkT5qHq8MD...</td>\n",
       "      <td>5NGO30tJxFlKixkPSgXcFE</td>\n",
       "      <td>0.820</td>\n",
       "      <td>...</td>\n",
       "      <td>0.0714</td>\n",
       "      <td>0.740</td>\n",
       "      <td>117.401</td>\n",
       "      <td>audio_features</td>\n",
       "      <td>1JSTJqkT5qHq8MDJnJbRE1</td>\n",
       "      <td>spotify:track:1JSTJqkT5qHq8MDJnJbRE1</td>\n",
       "      <td>https://api.spotify.com/v1/tracks/1JSTJqkT5qHq...</td>\n",
       "      <td>https://api.spotify.com/v1/audio-analysis/1JST...</td>\n",
       "      <td>253920</td>\n",
       "      <td>4</td>\n",
       "    </tr>\n",
       "  </tbody>\n",
       "</table>\n",
       "<p>2 rows × 27 columns</p>\n",
       "</div>"
      ],
      "text/plain": [
       "                    song      artist        date  explicit  \\\n",
       "0             Take on Me        a-ha  1985-06-01     False   \n",
       "1  Every Breath You Take  The Police  1983-06-17     False   \n",
       "\n",
       "                            uri_cancion  popularity      usuario  \\\n",
       "0  spotify:track:2WfaOiMkCvy7F5fcp2zZ8L          87  12177422298   \n",
       "1  spotify:track:1JSTJqkT5qHq8MDJnJbRE1          88  12177422298   \n",
       "\n",
       "                                               links             uri_artista  \\\n",
       "0  https://open.spotify.com/track/2WfaOiMkCvy7F5f...  2jzc5TC5TVFLXQlBNiIUzE   \n",
       "1  https://open.spotify.com/track/1JSTJqkT5qHq8MD...  5NGO30tJxFlKixkPSgXcFE   \n",
       "\n",
       "   danceability  ...  liveness  valence    tempo            type  \\\n",
       "0         0.573  ...    0.0928    0.876   84.412  audio_features   \n",
       "1         0.820  ...    0.0714    0.740  117.401  audio_features   \n",
       "\n",
       "                       id                                   uri  \\\n",
       "0  2WfaOiMkCvy7F5fcp2zZ8L  spotify:track:2WfaOiMkCvy7F5fcp2zZ8L   \n",
       "1  1JSTJqkT5qHq8MDJnJbRE1  spotify:track:1JSTJqkT5qHq8MDJnJbRE1   \n",
       "\n",
       "                                          track_href  \\\n",
       "0  https://api.spotify.com/v1/tracks/2WfaOiMkCvy7...   \n",
       "1  https://api.spotify.com/v1/tracks/1JSTJqkT5qHq...   \n",
       "\n",
       "                                        analysis_url  duration_ms  \\\n",
       "0  https://api.spotify.com/v1/audio-analysis/2Wfa...       225280   \n",
       "1  https://api.spotify.com/v1/audio-analysis/1JST...       253920   \n",
       "\n",
       "   time_signature  \n",
       "0               4  \n",
       "1               4  \n",
       "\n",
       "[2 rows x 27 columns]"
      ]
     },
     "execution_count": 16,
     "metadata": {},
     "output_type": "execute_result"
    }
   ],
   "source": [
    "df_final = api.get_features(sp, df_all_songs, listas_uris_canciones, nombre_lista )\n",
    "df_final.head(2)"
   ]
  },
  {
   "cell_type": "code",
   "execution_count": 17,
   "metadata": {},
   "outputs": [
    {
     "data": {
      "text/html": [
       "<div>\n",
       "<style scoped>\n",
       "    .dataframe tbody tr th:only-of-type {\n",
       "        vertical-align: middle;\n",
       "    }\n",
       "\n",
       "    .dataframe tbody tr th {\n",
       "        vertical-align: top;\n",
       "    }\n",
       "\n",
       "    .dataframe thead th {\n",
       "        text-align: right;\n",
       "    }\n",
       "</style>\n",
       "<table border=\"1\" class=\"dataframe\">\n",
       "  <thead>\n",
       "    <tr style=\"text-align: right;\">\n",
       "      <th></th>\n",
       "      <th>song</th>\n",
       "      <th>date</th>\n",
       "      <th>popularity</th>\n",
       "      <th>usuario</th>\n",
       "      <th>artist</th>\n",
       "      <th>uri_artista</th>\n",
       "      <th>uri_cancion</th>\n",
       "    </tr>\n",
       "  </thead>\n",
       "  <tbody>\n",
       "    <tr>\n",
       "      <th>0</th>\n",
       "      <td>Take on Me</td>\n",
       "      <td>1985-06-01</td>\n",
       "      <td>87</td>\n",
       "      <td>12177422298</td>\n",
       "      <td>a-ha</td>\n",
       "      <td>2jzc5TC5TVFLXQlBNiIUzE</td>\n",
       "      <td>spotify:track:2WfaOiMkCvy7F5fcp2zZ8L</td>\n",
       "    </tr>\n",
       "    <tr>\n",
       "      <th>1</th>\n",
       "      <td>Every Breath You Take</td>\n",
       "      <td>1983-06-17</td>\n",
       "      <td>88</td>\n",
       "      <td>12177422298</td>\n",
       "      <td>The Police</td>\n",
       "      <td>5NGO30tJxFlKixkPSgXcFE</td>\n",
       "      <td>spotify:track:1JSTJqkT5qHq8MDJnJbRE1</td>\n",
       "    </tr>\n",
       "  </tbody>\n",
       "</table>\n",
       "</div>"
      ],
      "text/plain": [
       "                    song        date  popularity      usuario      artist  \\\n",
       "0             Take on Me  1985-06-01          87  12177422298        a-ha   \n",
       "1  Every Breath You Take  1983-06-17          88  12177422298  The Police   \n",
       "\n",
       "              uri_artista                           uri_cancion  \n",
       "0  2jzc5TC5TVFLXQlBNiIUzE  spotify:track:2WfaOiMkCvy7F5fcp2zZ8L  \n",
       "1  5NGO30tJxFlKixkPSgXcFE  spotify:track:1JSTJqkT5qHq8MDJnJbRE1  "
      ]
     },
     "execution_count": 17,
     "metadata": {},
     "output_type": "execute_result"
    }
   ],
   "source": [
    "df_final = api.clean_df(df_final, nombre_lista)\n",
    "df_final.head(2)"
   ]
  },
  {
   "cell_type": "code",
   "execution_count": 18,
   "metadata": {},
   "outputs": [
    {
     "data": {
      "text/plain": [
       "195"
      ]
     },
     "execution_count": 18,
     "metadata": {},
     "output_type": "execute_result"
    }
   ],
   "source": [
    "uri_artistas = df_final[\"uri_artista\"].unique()\n",
    "len(uri_artistas)"
   ]
  },
  {
   "cell_type": "code",
   "execution_count": 19,
   "metadata": {},
   "outputs": [
    {
     "data": {
      "text/html": [
       "<div>\n",
       "<style scoped>\n",
       "    .dataframe tbody tr th:only-of-type {\n",
       "        vertical-align: middle;\n",
       "    }\n",
       "\n",
       "    .dataframe tbody tr th {\n",
       "        vertical-align: top;\n",
       "    }\n",
       "\n",
       "    .dataframe thead th {\n",
       "        text-align: right;\n",
       "    }\n",
       "</style>\n",
       "<table border=\"1\" class=\"dataframe\">\n",
       "  <thead>\n",
       "    <tr style=\"text-align: right;\">\n",
       "      <th></th>\n",
       "      <th>artist_name</th>\n",
       "      <th>album_name</th>\n",
       "      <th>release_date</th>\n",
       "      <th>total_tracks</th>\n",
       "    </tr>\n",
       "  </thead>\n",
       "  <tbody>\n",
       "    <tr>\n",
       "      <th>0</th>\n",
       "      <td>a-ha</td>\n",
       "      <td>True North</td>\n",
       "      <td>2022-10-21</td>\n",
       "      <td>12</td>\n",
       "    </tr>\n",
       "    <tr>\n",
       "      <th>1</th>\n",
       "      <td>a-ha</td>\n",
       "      <td>Lifelines (Deluxe Edition)</td>\n",
       "      <td>2019-09-27</td>\n",
       "      <td>37</td>\n",
       "    </tr>\n",
       "    <tr>\n",
       "      <th>2</th>\n",
       "      <td>a-ha</td>\n",
       "      <td>Minor Earth, Major Sky (Deluxe Edition)</td>\n",
       "      <td>2019-09-27</td>\n",
       "      <td>33</td>\n",
       "    </tr>\n",
       "    <tr>\n",
       "      <th>3</th>\n",
       "      <td>a-ha</td>\n",
       "      <td>Mtv Unplugged - Summer Solstice</td>\n",
       "      <td>2017-10-06</td>\n",
       "      <td>21</td>\n",
       "    </tr>\n",
       "    <tr>\n",
       "      <th>4</th>\n",
       "      <td>a-ha</td>\n",
       "      <td>Cast In Steel</td>\n",
       "      <td>2015-09-04</td>\n",
       "      <td>18</td>\n",
       "    </tr>\n",
       "  </tbody>\n",
       "</table>\n",
       "</div>"
      ],
      "text/plain": [
       "  artist_name                               album_name release_date  \\\n",
       "0        a-ha                               True North   2022-10-21   \n",
       "1        a-ha               Lifelines (Deluxe Edition)   2019-09-27   \n",
       "2        a-ha  Minor Earth, Major Sky (Deluxe Edition)   2019-09-27   \n",
       "3        a-ha          Mtv Unplugged - Summer Solstice   2017-10-06   \n",
       "4        a-ha                            Cast In Steel   2015-09-04   \n",
       "\n",
       "   total_tracks  \n",
       "0            12  \n",
       "1            37  \n",
       "2            33  \n",
       "3            21  \n",
       "4            18  "
      ]
     },
     "execution_count": 19,
     "metadata": {},
     "output_type": "execute_result"
    }
   ],
   "source": [
    "df_artistas_albumes = api.get_artist_album(sp, uri_artistas, nombre_lista)\n",
    "df_artistas_albumes.head()"
   ]
  },
  {
   "cell_type": "code",
   "execution_count": 20,
   "metadata": {},
   "outputs": [
    {
     "data": {
      "text/html": [
       "<div>\n",
       "<style scoped>\n",
       "    .dataframe tbody tr th:only-of-type {\n",
       "        vertical-align: middle;\n",
       "    }\n",
       "\n",
       "    .dataframe tbody tr th {\n",
       "        vertical-align: top;\n",
       "    }\n",
       "\n",
       "    .dataframe thead th {\n",
       "        text-align: right;\n",
       "    }\n",
       "</style>\n",
       "<table border=\"1\" class=\"dataframe\">\n",
       "  <thead>\n",
       "    <tr style=\"text-align: right;\">\n",
       "      <th></th>\n",
       "      <th>artist_name</th>\n",
       "      <th>artist_id</th>\n",
       "      <th>followers</th>\n",
       "      <th>genres</th>\n",
       "      <th>popularity</th>\n",
       "    </tr>\n",
       "  </thead>\n",
       "  <tbody>\n",
       "    <tr>\n",
       "      <th>0</th>\n",
       "      <td>a-ha</td>\n",
       "      <td>2jzc5TC5TVFLXQlBNiIUzE</td>\n",
       "      <td>1978118</td>\n",
       "      <td>[new romantic, new wave, new wave pop, permane...</td>\n",
       "      <td>72</td>\n",
       "    </tr>\n",
       "    <tr>\n",
       "      <th>0</th>\n",
       "      <td>The Police</td>\n",
       "      <td>5NGO30tJxFlKixkPSgXcFE</td>\n",
       "      <td>5429215</td>\n",
       "      <td>[album rock, classic rock, permanent wave, rock]</td>\n",
       "      <td>76</td>\n",
       "    </tr>\n",
       "    <tr>\n",
       "      <th>0</th>\n",
       "      <td>George Michael</td>\n",
       "      <td>19ra5tSw0tWufvUp8GotLo</td>\n",
       "      <td>4216228</td>\n",
       "      <td>[new wave pop]</td>\n",
       "      <td>73</td>\n",
       "    </tr>\n",
       "    <tr>\n",
       "      <th>0</th>\n",
       "      <td>Culture Club</td>\n",
       "      <td>6kz53iCdBSqhQCZ21CoLcc</td>\n",
       "      <td>1414469</td>\n",
       "      <td>[album rock, new romantic, new wave, new wave ...</td>\n",
       "      <td>64</td>\n",
       "    </tr>\n",
       "    <tr>\n",
       "      <th>0</th>\n",
       "      <td>Cyndi Lauper</td>\n",
       "      <td>2BTZIqw0ntH9MvilQ3ewNY</td>\n",
       "      <td>2294793</td>\n",
       "      <td>[dance pop, new wave pop, permanent wave, soft...</td>\n",
       "      <td>71</td>\n",
       "    </tr>\n",
       "  </tbody>\n",
       "</table>\n",
       "</div>"
      ],
      "text/plain": [
       "      artist_name               artist_id  followers  \\\n",
       "0            a-ha  2jzc5TC5TVFLXQlBNiIUzE    1978118   \n",
       "0      The Police  5NGO30tJxFlKixkPSgXcFE    5429215   \n",
       "0  George Michael  19ra5tSw0tWufvUp8GotLo    4216228   \n",
       "0    Culture Club  6kz53iCdBSqhQCZ21CoLcc    1414469   \n",
       "0    Cyndi Lauper  2BTZIqw0ntH9MvilQ3ewNY    2294793   \n",
       "\n",
       "                                              genres  popularity  \n",
       "0  [new romantic, new wave, new wave pop, permane...          72  \n",
       "0   [album rock, classic rock, permanent wave, rock]          76  \n",
       "0                                     [new wave pop]          73  \n",
       "0  [album rock, new romantic, new wave, new wave ...          64  \n",
       "0  [dance pop, new wave pop, permanent wave, soft...          71  "
      ]
     },
     "execution_count": 20,
     "metadata": {},
     "output_type": "execute_result"
    }
   ],
   "source": [
    "df_info_artistas = api.get_artist_data(sp, uri_artistas, nombre_lista)\n",
    "df_info_artistas.head()"
   ]
  }
 ],
 "metadata": {
  "kernelspec": {
   "display_name": "ironhack",
   "language": "python",
   "name": "python3"
  },
  "language_info": {
   "codemirror_mode": {
    "name": "ipython",
    "version": 3
   },
   "file_extension": ".py",
   "mimetype": "text/x-python",
   "name": "python",
   "nbconvert_exporter": "python",
   "pygments_lexer": "ipython3",
   "version": "3.10.10"
  },
  "orig_nbformat": 4
 },
 "nbformat": 4,
 "nbformat_minor": 2
}
