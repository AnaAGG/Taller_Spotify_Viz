{
 "cells": [
  {
   "attachments": {},
   "cell_type": "markdown",
   "metadata": {},
   "source": [
    "https://www.kaggle.com/datasets/leonardopena/top-spotify-songs-from-20102019-by-year\n",
    "\n",
    "INTERESANTE https://towardsdatascience.com/identifying-drivers-of-spotify-song-popularity-with-causal-ml-934e8347d2aa\n",
    "\n",
    "- sacar mas musica de los 60\n"
   ]
  },
  {
   "cell_type": "code",
   "execution_count": 78,
   "metadata": {},
   "outputs": [],
   "source": [
    "\n",
    "import pandas as pd\n",
    "import numpy as np\n",
    "import seaborn as sns\n",
    "import matplotlib.pyplot as plt\n",
    "\n",
    "import sys\n",
    "sys.path.append(\"../\")\n",
    "from src import api_spotify_support as api"
   ]
  },
  {
   "cell_type": "code",
   "execution_count": 79,
   "metadata": {},
   "outputs": [],
   "source": [
    "sp = api.create_credentials()\n"
   ]
  },
  {
   "cell_type": "code",
   "execution_count": 80,
   "metadata": {},
   "outputs": [],
   "source": [
    "#url = \"https://open.spotify.com/playlist/4DOP4ViReFpcrtXZQIzlZZ?si=cd2d079390204e7e\" # lista de los 70, 80,  90, 304 canciones\n",
    "#url = \"https://open.spotify.com/playlist/0SrwWHpsLlMgBV7z99YFEB?si=c54f7b038d5e4efb\" # lista de musica de los 70\n",
    "# url = \"https://open.spotify.com/playlist/0XKY6uDhKJmodzjVXzLxBB?si=752e6ffc2ed7433c\" # musica de los 80 en españa\n",
    "#url = \"https://open.spotify.com/playlist/40HtNm9ICSIqwqMrThDbX9?si=be68f425cd2f41a1\" # musica de los 80 en ingles\n",
    "#url = \"https://open.spotify.com/playlist/2x6mA6oWvdmdSlzXKNxMXO?si=37395c8470614c20\" # lo mejor de los 80\n",
    "#url = \"https://open.spotify.com/playlist/4Dx5j1FgpZFdfzhgqH3Z1A?si=08ef9a2457444fc1\" # lo mejor de los 90 internacional\n",
    "# url = \"https://open.spotify.com/playlist/4NmXSZGYDgwQrmMy1aNVAI?si=0cb57f96a0514b8d\" # lo mejor de los 90 en españa\n",
    "#url = \"https://open.spotify.com/playlist/1DjycxCv8InOQVg7AP8yAs?si=7885c1d1393049ca\" # lo mejor de los 90 en ingles\n",
    "#url = \"https://open.spotify.com/playlist/3KYliZPtRGRng7jGhQUmtk?si=da7827cb2c3949c5\" # los mejores exitos del 2000\n",
    "#url = \"https://open.spotify.com/playlist/37i9dQZF1DXb0AsvHMF4aM?si=bccbb621301547e4\" # los 2000 en españa\n",
    "#url = \"https://open.spotify.com/playlist/6KrYqpR1WE8CU1Ie98DDZJ?si=b63ba8c8809b48cb\" # musica disco de los 2000\n",
    "#url = \"https://open.spotify.com/playlist/5cqeh2LnOyZgcTZCF8C0zH?si=338064c5e64e460d\" # musica de los 2010 en español\n",
    "#url = \"https://open.spotify.com/playlist/72FdsweCiOlp4BXdRrUq58?si=266cf8b4bf3c4112\" # musica de los 2010 en ingles\n",
    "url = \"https://open.spotify.com/playlist/4CLeHdykPpc1gyQpfwAcfD?si=6c0876c6b318466b\" # musica de los 60"
   ]
  },
  {
   "cell_type": "code",
   "execution_count": 81,
   "metadata": {},
   "outputs": [],
   "source": [
    "nombre_lista = \"musica de los 60\""
   ]
  },
  {
   "cell_type": "code",
   "execution_count": 82,
   "metadata": {},
   "outputs": [
    {
     "data": {
      "text/plain": [
       "'4CLeHdykPpc1gyQpfwAcfD'"
      ]
     },
     "execution_count": 82,
     "metadata": {},
     "output_type": "execute_result"
    }
   ],
   "source": [
    "uri_playlist = api.prepare_url(url)\n",
    "uri_playlist"
   ]
  },
  {
   "cell_type": "code",
   "execution_count": 83,
   "metadata": {},
   "outputs": [
    {
     "name": "stdout",
     "output_type": "stream",
     "text": [
      "1\n"
     ]
    }
   ],
   "source": [
    "all_songs = api.extract_songs(sp, uri_playlist)"
   ]
  },
  {
   "cell_type": "code",
   "execution_count": 84,
   "metadata": {},
   "outputs": [
    {
     "data": {
      "text/html": [
       "<div>\n",
       "<style scoped>\n",
       "    .dataframe tbody tr th:only-of-type {\n",
       "        vertical-align: middle;\n",
       "    }\n",
       "\n",
       "    .dataframe tbody tr th {\n",
       "        vertical-align: top;\n",
       "    }\n",
       "\n",
       "    .dataframe thead th {\n",
       "        text-align: right;\n",
       "    }\n",
       "</style>\n",
       "<table border=\"1\" class=\"dataframe\">\n",
       "  <thead>\n",
       "    <tr style=\"text-align: right;\">\n",
       "      <th></th>\n",
       "      <th>song</th>\n",
       "      <th>artist</th>\n",
       "      <th>date</th>\n",
       "      <th>explicit</th>\n",
       "      <th>uri_cancion</th>\n",
       "      <th>popularity</th>\n",
       "      <th>usuario</th>\n",
       "      <th>links</th>\n",
       "      <th>uri_artista</th>\n",
       "    </tr>\n",
       "  </thead>\n",
       "  <tbody>\n",
       "    <tr>\n",
       "      <th>0</th>\n",
       "      <td>California Dreamin' - Single Version</td>\n",
       "      <td>The Mamas &amp; The Papas</td>\n",
       "      <td>1966-03</td>\n",
       "      <td>False</td>\n",
       "      <td>spotify:track:4s6LhHAV5SEsOV0lC2tjvJ</td>\n",
       "      <td>80</td>\n",
       "      <td>314uptk25ulh3fe6onshuznbvjoi</td>\n",
       "      <td>https://open.spotify.com/track/4s6LhHAV5SEsOV0...</td>\n",
       "      <td>1bs7HoMkSyQwcobCpE9KpN</td>\n",
       "    </tr>\n",
       "    <tr>\n",
       "      <th>1</th>\n",
       "      <td>San Francisco (Be Sure to Wear Flowers in Your...</td>\n",
       "      <td>Scott McKenzie</td>\n",
       "      <td>1967-07-16</td>\n",
       "      <td>False</td>\n",
       "      <td>spotify:track:6vcNJUWtUPB0hKC6VbZriY</td>\n",
       "      <td>66</td>\n",
       "      <td>314uptk25ulh3fe6onshuznbvjoi</td>\n",
       "      <td>https://open.spotify.com/track/6vcNJUWtUPB0hKC...</td>\n",
       "      <td>7d7AZ3CQC457bFhK0wHpSO</td>\n",
       "    </tr>\n",
       "    <tr>\n",
       "      <th>2</th>\n",
       "      <td>Oh, Pretty Woman</td>\n",
       "      <td>Roy Orbison</td>\n",
       "      <td>1962</td>\n",
       "      <td>False</td>\n",
       "      <td>spotify:track:48i055G1OT5KxGGftwFxWy</td>\n",
       "      <td>75</td>\n",
       "      <td>314uptk25ulh3fe6onshuznbvjoi</td>\n",
       "      <td>https://open.spotify.com/track/48i055G1OT5KxGG...</td>\n",
       "      <td>0JDkhL4rjiPNEp92jAgJnS</td>\n",
       "    </tr>\n",
       "    <tr>\n",
       "      <th>3</th>\n",
       "      <td>Unchained Melody</td>\n",
       "      <td>The Righteous Brothers</td>\n",
       "      <td>1965-04-04</td>\n",
       "      <td>False</td>\n",
       "      <td>spotify:track:2qhASBzpbFhPRtrnZ5lLnz</td>\n",
       "      <td>76</td>\n",
       "      <td>314uptk25ulh3fe6onshuznbvjoi</td>\n",
       "      <td>https://open.spotify.com/track/2qhASBzpbFhPRtr...</td>\n",
       "      <td>4b0WsB47XCa9F83BmwQ7WX</td>\n",
       "    </tr>\n",
       "    <tr>\n",
       "      <th>4</th>\n",
       "      <td>I Get Around (Mono)</td>\n",
       "      <td>The Beach Boys</td>\n",
       "      <td>1964-07-13</td>\n",
       "      <td>False</td>\n",
       "      <td>spotify:track:3v9xlH6BpmRbqL7hgNJhfT</td>\n",
       "      <td>68</td>\n",
       "      <td>314uptk25ulh3fe6onshuznbvjoi</td>\n",
       "      <td>https://open.spotify.com/track/3v9xlH6BpmRbqL7...</td>\n",
       "      <td>3oDbviiivRWhXwIE8hxkVV</td>\n",
       "    </tr>\n",
       "  </tbody>\n",
       "</table>\n",
       "</div>"
      ],
      "text/plain": [
       "                                                song                  artist  \\\n",
       "0               California Dreamin' - Single Version   The Mamas & The Papas   \n",
       "1  San Francisco (Be Sure to Wear Flowers in Your...          Scott McKenzie   \n",
       "2                                   Oh, Pretty Woman             Roy Orbison   \n",
       "3                                   Unchained Melody  The Righteous Brothers   \n",
       "4                                I Get Around (Mono)          The Beach Boys   \n",
       "\n",
       "         date  explicit                           uri_cancion  popularity  \\\n",
       "0     1966-03     False  spotify:track:4s6LhHAV5SEsOV0lC2tjvJ          80   \n",
       "1  1967-07-16     False  spotify:track:6vcNJUWtUPB0hKC6VbZriY          66   \n",
       "2        1962     False  spotify:track:48i055G1OT5KxGGftwFxWy          75   \n",
       "3  1965-04-04     False  spotify:track:2qhASBzpbFhPRtrnZ5lLnz          76   \n",
       "4  1964-07-13     False  spotify:track:3v9xlH6BpmRbqL7hgNJhfT          68   \n",
       "\n",
       "                        usuario  \\\n",
       "0  314uptk25ulh3fe6onshuznbvjoi   \n",
       "1  314uptk25ulh3fe6onshuznbvjoi   \n",
       "2  314uptk25ulh3fe6onshuznbvjoi   \n",
       "3  314uptk25ulh3fe6onshuznbvjoi   \n",
       "4  314uptk25ulh3fe6onshuznbvjoi   \n",
       "\n",
       "                                               links             uri_artista  \n",
       "0  https://open.spotify.com/track/4s6LhHAV5SEsOV0...  1bs7HoMkSyQwcobCpE9KpN  \n",
       "1  https://open.spotify.com/track/6vcNJUWtUPB0hKC...  7d7AZ3CQC457bFhK0wHpSO  \n",
       "2  https://open.spotify.com/track/48i055G1OT5KxGG...  0JDkhL4rjiPNEp92jAgJnS  \n",
       "3  https://open.spotify.com/track/2qhASBzpbFhPRtr...  4b0WsB47XCa9F83BmwQ7WX  \n",
       "4  https://open.spotify.com/track/3v9xlH6BpmRbqL7...  3oDbviiivRWhXwIE8hxkVV  "
      ]
     },
     "execution_count": 84,
     "metadata": {},
     "output_type": "execute_result"
    }
   ],
   "source": [
    "df_all_songs = api.clean_data( all_songs)\n",
    "df_all_songs.head()"
   ]
  },
  {
   "cell_type": "code",
   "execution_count": 85,
   "metadata": {},
   "outputs": [],
   "source": [
    "listas_uris_canciones = df_all_songs[\"uri_cancion\"].unique().tolist()"
   ]
  },
  {
   "cell_type": "code",
   "execution_count": 86,
   "metadata": {},
   "outputs": [
    {
     "name": "stdout",
     "output_type": "stream",
     "text": [
      "69\n"
     ]
    }
   ],
   "source": [
    "print(len(listas_uris_canciones))"
   ]
  },
  {
   "cell_type": "code",
   "execution_count": 87,
   "metadata": {},
   "outputs": [
    {
     "data": {
      "text/html": [
       "<div>\n",
       "<style scoped>\n",
       "    .dataframe tbody tr th:only-of-type {\n",
       "        vertical-align: middle;\n",
       "    }\n",
       "\n",
       "    .dataframe tbody tr th {\n",
       "        vertical-align: top;\n",
       "    }\n",
       "\n",
       "    .dataframe thead th {\n",
       "        text-align: right;\n",
       "    }\n",
       "</style>\n",
       "<table border=\"1\" class=\"dataframe\">\n",
       "  <thead>\n",
       "    <tr style=\"text-align: right;\">\n",
       "      <th></th>\n",
       "      <th>song</th>\n",
       "      <th>artist</th>\n",
       "      <th>date</th>\n",
       "      <th>explicit</th>\n",
       "      <th>uri_cancion</th>\n",
       "      <th>popularity</th>\n",
       "      <th>usuario</th>\n",
       "      <th>links</th>\n",
       "      <th>uri_artista</th>\n",
       "      <th>danceability</th>\n",
       "      <th>...</th>\n",
       "      <th>liveness</th>\n",
       "      <th>valence</th>\n",
       "      <th>tempo</th>\n",
       "      <th>type</th>\n",
       "      <th>id</th>\n",
       "      <th>uri</th>\n",
       "      <th>track_href</th>\n",
       "      <th>analysis_url</th>\n",
       "      <th>duration_ms</th>\n",
       "      <th>time_signature</th>\n",
       "    </tr>\n",
       "  </thead>\n",
       "  <tbody>\n",
       "    <tr>\n",
       "      <th>0</th>\n",
       "      <td>California Dreamin' - Single Version</td>\n",
       "      <td>The Mamas &amp; The Papas</td>\n",
       "      <td>1966-03</td>\n",
       "      <td>False</td>\n",
       "      <td>spotify:track:4s6LhHAV5SEsOV0lC2tjvJ</td>\n",
       "      <td>80</td>\n",
       "      <td>314uptk25ulh3fe6onshuznbvjoi</td>\n",
       "      <td>https://open.spotify.com/track/4s6LhHAV5SEsOV0...</td>\n",
       "      <td>1bs7HoMkSyQwcobCpE9KpN</td>\n",
       "      <td>0.552</td>\n",
       "      <td>...</td>\n",
       "      <td>0.0533</td>\n",
       "      <td>0.637</td>\n",
       "      <td>112.367</td>\n",
       "      <td>audio_features</td>\n",
       "      <td>4s6LhHAV5SEsOV0lC2tjvJ</td>\n",
       "      <td>spotify:track:4s6LhHAV5SEsOV0lC2tjvJ</td>\n",
       "      <td>https://api.spotify.com/v1/tracks/4s6LhHAV5SEs...</td>\n",
       "      <td>https://api.spotify.com/v1/audio-analysis/4s6L...</td>\n",
       "      <td>162373</td>\n",
       "      <td>4</td>\n",
       "    </tr>\n",
       "    <tr>\n",
       "      <th>1</th>\n",
       "      <td>San Francisco (Be Sure to Wear Flowers in Your...</td>\n",
       "      <td>Scott McKenzie</td>\n",
       "      <td>1967-07-16</td>\n",
       "      <td>False</td>\n",
       "      <td>spotify:track:6vcNJUWtUPB0hKC6VbZriY</td>\n",
       "      <td>66</td>\n",
       "      <td>314uptk25ulh3fe6onshuznbvjoi</td>\n",
       "      <td>https://open.spotify.com/track/6vcNJUWtUPB0hKC...</td>\n",
       "      <td>7d7AZ3CQC457bFhK0wHpSO</td>\n",
       "      <td>0.525</td>\n",
       "      <td>...</td>\n",
       "      <td>0.1110</td>\n",
       "      <td>0.523</td>\n",
       "      <td>112.554</td>\n",
       "      <td>audio_features</td>\n",
       "      <td>6vcNJUWtUPB0hKC6VbZriY</td>\n",
       "      <td>spotify:track:6vcNJUWtUPB0hKC6VbZriY</td>\n",
       "      <td>https://api.spotify.com/v1/tracks/6vcNJUWtUPB0...</td>\n",
       "      <td>https://api.spotify.com/v1/audio-analysis/6vcN...</td>\n",
       "      <td>178507</td>\n",
       "      <td>4</td>\n",
       "    </tr>\n",
       "  </tbody>\n",
       "</table>\n",
       "<p>2 rows × 27 columns</p>\n",
       "</div>"
      ],
      "text/plain": [
       "                                                song                 artist  \\\n",
       "0               California Dreamin' - Single Version  The Mamas & The Papas   \n",
       "1  San Francisco (Be Sure to Wear Flowers in Your...         Scott McKenzie   \n",
       "\n",
       "         date  explicit                           uri_cancion  popularity  \\\n",
       "0     1966-03     False  spotify:track:4s6LhHAV5SEsOV0lC2tjvJ          80   \n",
       "1  1967-07-16     False  spotify:track:6vcNJUWtUPB0hKC6VbZriY          66   \n",
       "\n",
       "                        usuario  \\\n",
       "0  314uptk25ulh3fe6onshuznbvjoi   \n",
       "1  314uptk25ulh3fe6onshuznbvjoi   \n",
       "\n",
       "                                               links             uri_artista  \\\n",
       "0  https://open.spotify.com/track/4s6LhHAV5SEsOV0...  1bs7HoMkSyQwcobCpE9KpN   \n",
       "1  https://open.spotify.com/track/6vcNJUWtUPB0hKC...  7d7AZ3CQC457bFhK0wHpSO   \n",
       "\n",
       "   danceability  ...  liveness  valence    tempo            type  \\\n",
       "0         0.552  ...    0.0533    0.637  112.367  audio_features   \n",
       "1         0.525  ...    0.1110    0.523  112.554  audio_features   \n",
       "\n",
       "                       id                                   uri  \\\n",
       "0  4s6LhHAV5SEsOV0lC2tjvJ  spotify:track:4s6LhHAV5SEsOV0lC2tjvJ   \n",
       "1  6vcNJUWtUPB0hKC6VbZriY  spotify:track:6vcNJUWtUPB0hKC6VbZriY   \n",
       "\n",
       "                                          track_href  \\\n",
       "0  https://api.spotify.com/v1/tracks/4s6LhHAV5SEs...   \n",
       "1  https://api.spotify.com/v1/tracks/6vcNJUWtUPB0...   \n",
       "\n",
       "                                        analysis_url  duration_ms  \\\n",
       "0  https://api.spotify.com/v1/audio-analysis/4s6L...       162373   \n",
       "1  https://api.spotify.com/v1/audio-analysis/6vcN...       178507   \n",
       "\n",
       "   time_signature  \n",
       "0               4  \n",
       "1               4  \n",
       "\n",
       "[2 rows x 27 columns]"
      ]
     },
     "execution_count": 87,
     "metadata": {},
     "output_type": "execute_result"
    }
   ],
   "source": [
    "df_final = api.get_features(sp, df_all_songs, listas_uris_canciones, nombre_lista )\n",
    "df_final.head(2)"
   ]
  },
  {
   "cell_type": "code",
   "execution_count": 88,
   "metadata": {},
   "outputs": [
    {
     "data": {
      "text/html": [
       "<div>\n",
       "<style scoped>\n",
       "    .dataframe tbody tr th:only-of-type {\n",
       "        vertical-align: middle;\n",
       "    }\n",
       "\n",
       "    .dataframe tbody tr th {\n",
       "        vertical-align: top;\n",
       "    }\n",
       "\n",
       "    .dataframe thead th {\n",
       "        text-align: right;\n",
       "    }\n",
       "</style>\n",
       "<table border=\"1\" class=\"dataframe\">\n",
       "  <thead>\n",
       "    <tr style=\"text-align: right;\">\n",
       "      <th></th>\n",
       "      <th>song</th>\n",
       "      <th>date</th>\n",
       "      <th>popularity</th>\n",
       "      <th>usuario</th>\n",
       "      <th>artist</th>\n",
       "      <th>uri_artista</th>\n",
       "      <th>uri_cancion</th>\n",
       "    </tr>\n",
       "  </thead>\n",
       "  <tbody>\n",
       "    <tr>\n",
       "      <th>0</th>\n",
       "      <td>California Dreamin' - Single Version</td>\n",
       "      <td>1966-03</td>\n",
       "      <td>80</td>\n",
       "      <td>314uptk25ulh3fe6onshuznbvjoi</td>\n",
       "      <td>The Mamas &amp; The Papas</td>\n",
       "      <td>1bs7HoMkSyQwcobCpE9KpN</td>\n",
       "      <td>spotify:track:4s6LhHAV5SEsOV0lC2tjvJ</td>\n",
       "    </tr>\n",
       "    <tr>\n",
       "      <th>1</th>\n",
       "      <td>San Francisco (Be Sure to Wear Flowers in Your...</td>\n",
       "      <td>1967-07-16</td>\n",
       "      <td>66</td>\n",
       "      <td>314uptk25ulh3fe6onshuznbvjoi</td>\n",
       "      <td>Scott McKenzie</td>\n",
       "      <td>7d7AZ3CQC457bFhK0wHpSO</td>\n",
       "      <td>spotify:track:6vcNJUWtUPB0hKC6VbZriY</td>\n",
       "    </tr>\n",
       "  </tbody>\n",
       "</table>\n",
       "</div>"
      ],
      "text/plain": [
       "                                                song        date  popularity  \\\n",
       "0               California Dreamin' - Single Version     1966-03          80   \n",
       "1  San Francisco (Be Sure to Wear Flowers in Your...  1967-07-16          66   \n",
       "\n",
       "                        usuario                 artist  \\\n",
       "0  314uptk25ulh3fe6onshuznbvjoi  The Mamas & The Papas   \n",
       "1  314uptk25ulh3fe6onshuznbvjoi         Scott McKenzie   \n",
       "\n",
       "              uri_artista                           uri_cancion  \n",
       "0  1bs7HoMkSyQwcobCpE9KpN  spotify:track:4s6LhHAV5SEsOV0lC2tjvJ  \n",
       "1  7d7AZ3CQC457bFhK0wHpSO  spotify:track:6vcNJUWtUPB0hKC6VbZriY  "
      ]
     },
     "execution_count": 88,
     "metadata": {},
     "output_type": "execute_result"
    }
   ],
   "source": [
    "df_final = api.clean_df(df_final, nombre_lista)\n",
    "df_final.head(2)"
   ]
  },
  {
   "cell_type": "code",
   "execution_count": 89,
   "metadata": {},
   "outputs": [
    {
     "data": {
      "text/plain": [
       "52"
      ]
     },
     "execution_count": 89,
     "metadata": {},
     "output_type": "execute_result"
    }
   ],
   "source": [
    "uri_artistas = df_final[\"uri_artista\"].unique()\n",
    "len(uri_artistas)"
   ]
  },
  {
   "cell_type": "code",
   "execution_count": 90,
   "metadata": {},
   "outputs": [
    {
     "data": {
      "text/html": [
       "<div>\n",
       "<style scoped>\n",
       "    .dataframe tbody tr th:only-of-type {\n",
       "        vertical-align: middle;\n",
       "    }\n",
       "\n",
       "    .dataframe tbody tr th {\n",
       "        vertical-align: top;\n",
       "    }\n",
       "\n",
       "    .dataframe thead th {\n",
       "        text-align: right;\n",
       "    }\n",
       "</style>\n",
       "<table border=\"1\" class=\"dataframe\">\n",
       "  <thead>\n",
       "    <tr style=\"text-align: right;\">\n",
       "      <th></th>\n",
       "      <th>artist_name</th>\n",
       "      <th>album_name</th>\n",
       "      <th>release_date</th>\n",
       "      <th>total_tracks</th>\n",
       "    </tr>\n",
       "  </thead>\n",
       "  <tbody>\n",
       "    <tr>\n",
       "      <th>0</th>\n",
       "      <td>The Mamas &amp; The Papas</td>\n",
       "      <td>California Dreaming</td>\n",
       "      <td>2018-11-23</td>\n",
       "      <td>10</td>\n",
       "    </tr>\n",
       "    <tr>\n",
       "      <th>1</th>\n",
       "      <td>The Mamas &amp; The Papas</td>\n",
       "      <td>People Like Us</td>\n",
       "      <td>1971-11-01</td>\n",
       "      <td>12</td>\n",
       "    </tr>\n",
       "    <tr>\n",
       "      <th>2</th>\n",
       "      <td>The Mamas &amp; The Papas</td>\n",
       "      <td>The Papas &amp; The Mamas</td>\n",
       "      <td>1968-05-01</td>\n",
       "      <td>12</td>\n",
       "    </tr>\n",
       "    <tr>\n",
       "      <th>3</th>\n",
       "      <td>The Mamas &amp; The Papas</td>\n",
       "      <td>Deliver</td>\n",
       "      <td>1967-01-01</td>\n",
       "      <td>12</td>\n",
       "    </tr>\n",
       "    <tr>\n",
       "      <th>4</th>\n",
       "      <td>The Mamas &amp; The Papas</td>\n",
       "      <td>The Mamas &amp; The Papas</td>\n",
       "      <td>1966-08-30</td>\n",
       "      <td>12</td>\n",
       "    </tr>\n",
       "  </tbody>\n",
       "</table>\n",
       "</div>"
      ],
      "text/plain": [
       "             artist_name             album_name release_date  total_tracks\n",
       "0  The Mamas & The Papas    California Dreaming   2018-11-23            10\n",
       "1  The Mamas & The Papas         People Like Us   1971-11-01            12\n",
       "2  The Mamas & The Papas  The Papas & The Mamas   1968-05-01            12\n",
       "3  The Mamas & The Papas                Deliver   1967-01-01            12\n",
       "4  The Mamas & The Papas  The Mamas & The Papas   1966-08-30            12"
      ]
     },
     "execution_count": 90,
     "metadata": {},
     "output_type": "execute_result"
    }
   ],
   "source": [
    "df_artistas_albumes = api.get_artist_album(sp, uri_artistas, nombre_lista)\n",
    "df_artistas_albumes.head()"
   ]
  },
  {
   "cell_type": "code",
   "execution_count": 91,
   "metadata": {},
   "outputs": [
    {
     "data": {
      "text/html": [
       "<div>\n",
       "<style scoped>\n",
       "    .dataframe tbody tr th:only-of-type {\n",
       "        vertical-align: middle;\n",
       "    }\n",
       "\n",
       "    .dataframe tbody tr th {\n",
       "        vertical-align: top;\n",
       "    }\n",
       "\n",
       "    .dataframe thead th {\n",
       "        text-align: right;\n",
       "    }\n",
       "</style>\n",
       "<table border=\"1\" class=\"dataframe\">\n",
       "  <thead>\n",
       "    <tr style=\"text-align: right;\">\n",
       "      <th></th>\n",
       "      <th>artist_name</th>\n",
       "      <th>artist_id</th>\n",
       "      <th>followers</th>\n",
       "      <th>genres</th>\n",
       "      <th>popularity</th>\n",
       "    </tr>\n",
       "  </thead>\n",
       "  <tbody>\n",
       "    <tr>\n",
       "      <th>0</th>\n",
       "      <td>The Mamas &amp; The Papas</td>\n",
       "      <td>1bs7HoMkSyQwcobCpE9KpN</td>\n",
       "      <td>1530968</td>\n",
       "      <td>[classic rock, folk, folk rock, mellow gold, p...</td>\n",
       "      <td>68</td>\n",
       "    </tr>\n",
       "    <tr>\n",
       "      <th>0</th>\n",
       "      <td>Scott McKenzie</td>\n",
       "      <td>7d7AZ3CQC457bFhK0wHpSO</td>\n",
       "      <td>40887</td>\n",
       "      <td>[]</td>\n",
       "      <td>51</td>\n",
       "    </tr>\n",
       "    <tr>\n",
       "      <th>0</th>\n",
       "      <td>Roy Orbison</td>\n",
       "      <td>0JDkhL4rjiPNEp92jAgJnS</td>\n",
       "      <td>1771907</td>\n",
       "      <td>[adult standards, classic rock, folk rock, mel...</td>\n",
       "      <td>66</td>\n",
       "    </tr>\n",
       "    <tr>\n",
       "      <th>0</th>\n",
       "      <td>The Righteous Brothers</td>\n",
       "      <td>4b0WsB47XCa9F83BmwQ7WX</td>\n",
       "      <td>526741</td>\n",
       "      <td>[adult standards, brill building pop, folk roc...</td>\n",
       "      <td>62</td>\n",
       "    </tr>\n",
       "    <tr>\n",
       "      <th>0</th>\n",
       "      <td>The Beach Boys</td>\n",
       "      <td>3oDbviiivRWhXwIE8hxkVV</td>\n",
       "      <td>4084507</td>\n",
       "      <td>[baroque pop, classic rock, folk rock, mellow ...</td>\n",
       "      <td>73</td>\n",
       "    </tr>\n",
       "  </tbody>\n",
       "</table>\n",
       "</div>"
      ],
      "text/plain": [
       "              artist_name               artist_id  followers  \\\n",
       "0   The Mamas & The Papas  1bs7HoMkSyQwcobCpE9KpN    1530968   \n",
       "0          Scott McKenzie  7d7AZ3CQC457bFhK0wHpSO      40887   \n",
       "0             Roy Orbison  0JDkhL4rjiPNEp92jAgJnS    1771907   \n",
       "0  The Righteous Brothers  4b0WsB47XCa9F83BmwQ7WX     526741   \n",
       "0          The Beach Boys  3oDbviiivRWhXwIE8hxkVV    4084507   \n",
       "\n",
       "                                              genres  popularity  \n",
       "0  [classic rock, folk, folk rock, mellow gold, p...          68  \n",
       "0                                                 []          51  \n",
       "0  [adult standards, classic rock, folk rock, mel...          66  \n",
       "0  [adult standards, brill building pop, folk roc...          62  \n",
       "0  [baroque pop, classic rock, folk rock, mellow ...          73  "
      ]
     },
     "execution_count": 91,
     "metadata": {},
     "output_type": "execute_result"
    }
   ],
   "source": [
    "df_info_artistas = api.get_artist_data(sp, uri_artistas, nombre_lista)\n",
    "df_info_artistas.head()"
   ]
  },
  {
   "cell_type": "code",
   "execution_count": null,
   "metadata": {},
   "outputs": [],
   "source": []
  }
 ],
 "metadata": {
  "kernelspec": {
   "display_name": "ironhack",
   "language": "python",
   "name": "python3"
  },
  "language_info": {
   "codemirror_mode": {
    "name": "ipython",
    "version": 3
   },
   "file_extension": ".py",
   "mimetype": "text/x-python",
   "name": "python",
   "nbconvert_exporter": "python",
   "pygments_lexer": "ipython3",
   "version": "3.10.10"
  },
  "orig_nbformat": 4
 },
 "nbformat": 4,
 "nbformat_minor": 2
}
