{
 "cells": [
  {
   "attachments": {},
   "cell_type": "markdown",
   "metadata": {},
   "source": [
    "https://www.kaggle.com/datasets/leonardopena/top-spotify-songs-from-20102019-by-year\n",
    "\n",
    "INTERESANTE https://towardsdatascience.com/identifying-drivers-of-spotify-song-popularity-with-causal-ml-934e8347d2aa"
   ]
  },
  {
   "cell_type": "code",
   "execution_count": 1,
   "metadata": {},
   "outputs": [],
   "source": [
    "\n",
    "import pandas as pd\n",
    "import numpy as np\n",
    "import seaborn as sns\n",
    "import matplotlib.pyplot as plt\n",
    "\n",
    "import sys\n",
    "sys.path.append(\"../\")\n",
    "from src import api_spotify_support as api"
   ]
  },
  {
   "cell_type": "code",
   "execution_count": 2,
   "metadata": {},
   "outputs": [],
   "source": [
    "sp = api.create_credentials()\n"
   ]
  },
  {
   "cell_type": "code",
   "execution_count": 3,
   "metadata": {},
   "outputs": [],
   "source": [
    "url = \"https://open.spotify.com/playlist/3mn4kXt07PEGZFR46h3HhN?si=9f3f419e04d7431f\""
   ]
  },
  {
   "cell_type": "code",
   "execution_count": 4,
   "metadata": {},
   "outputs": [
    {
     "data": {
      "text/plain": [
       "'3mn4kXt07PEGZFR46h3HhN'"
      ]
     },
     "execution_count": 4,
     "metadata": {},
     "output_type": "execute_result"
    }
   ],
   "source": [
    "uri_playlist = api.prepare_url(url)\n",
    "uri_playlist"
   ]
  },
  {
   "cell_type": "code",
   "execution_count": 5,
   "metadata": {},
   "outputs": [],
   "source": [
    "all_songs = api.extract_songs(sp, uri_playlist, numero_canciones=143)"
   ]
  },
  {
   "cell_type": "code",
   "execution_count": 6,
   "metadata": {},
   "outputs": [
    {
     "data": {
      "text/html": [
       "<div>\n",
       "<style scoped>\n",
       "    .dataframe tbody tr th:only-of-type {\n",
       "        vertical-align: middle;\n",
       "    }\n",
       "\n",
       "    .dataframe tbody tr th {\n",
       "        vertical-align: top;\n",
       "    }\n",
       "\n",
       "    .dataframe thead th {\n",
       "        text-align: right;\n",
       "    }\n",
       "</style>\n",
       "<table border=\"1\" class=\"dataframe\">\n",
       "  <thead>\n",
       "    <tr style=\"text-align: right;\">\n",
       "      <th></th>\n",
       "      <th>song</th>\n",
       "      <th>artist</th>\n",
       "      <th>date</th>\n",
       "      <th>explicit</th>\n",
       "      <th>uri_cancion</th>\n",
       "      <th>popularity</th>\n",
       "      <th>ironhacker</th>\n",
       "      <th>links</th>\n",
       "      <th>uri_artista</th>\n",
       "    </tr>\n",
       "  </thead>\n",
       "  <tbody>\n",
       "    <tr>\n",
       "      <th>0</th>\n",
       "      <td>BESO</td>\n",
       "      <td>[ROSALÍA, Rauw Alejandro]</td>\n",
       "      <td>2023-03-24</td>\n",
       "      <td>False</td>\n",
       "      <td>spotify:track:609E1JCInJncactoMmkDon</td>\n",
       "      <td>97</td>\n",
       "      <td>mejoresplaylistsspotify</td>\n",
       "      <td>https://open.spotify.com/track/609E1JCInJncact...</td>\n",
       "      <td>[7ltDVBr6mKbRvohxheJ9h1, 1mcTU81TzQhprhouKaTkpq]</td>\n",
       "    </tr>\n",
       "    <tr>\n",
       "      <th>1</th>\n",
       "      <td>TONTA</td>\n",
       "      <td>NATHY PELUSO</td>\n",
       "      <td>2023-04-21</td>\n",
       "      <td>False</td>\n",
       "      <td>spotify:track:6HzWCIc51HnyGCOVRMH2AI</td>\n",
       "      <td>65</td>\n",
       "      <td>mejoresplaylistsspotify</td>\n",
       "      <td>https://open.spotify.com/track/6HzWCIc51HnyGCO...</td>\n",
       "      <td>3VHAySZQPlfGlNLslzXYpN</td>\n",
       "    </tr>\n",
       "    <tr>\n",
       "      <th>2</th>\n",
       "      <td>El Merengue</td>\n",
       "      <td>[Marshmello, Manuel Turizo]</td>\n",
       "      <td>2023-03-03</td>\n",
       "      <td>False</td>\n",
       "      <td>spotify:track:51FvjPEGKq2zByeeEQ43V9</td>\n",
       "      <td>91</td>\n",
       "      <td>mejoresplaylistsspotify</td>\n",
       "      <td>https://open.spotify.com/track/51FvjPEGKq2zBye...</td>\n",
       "      <td>[64KEffDW9EtZ1y2vBYgq8T, 0tmwSHipWxN12fsoLcFU3B]</td>\n",
       "    </tr>\n",
       "    <tr>\n",
       "      <th>3</th>\n",
       "      <td>Cupido</td>\n",
       "      <td>TINI</td>\n",
       "      <td>2023-02-14</td>\n",
       "      <td>False</td>\n",
       "      <td>spotify:track:2xVcCDRgG3TrH69TatsUxp</td>\n",
       "      <td>88</td>\n",
       "      <td>mejoresplaylistsspotify</td>\n",
       "      <td>https://open.spotify.com/track/2xVcCDRgG3TrH69...</td>\n",
       "      <td>7vXDAI8JwjW531ouMGbfcp</td>\n",
       "    </tr>\n",
       "    <tr>\n",
       "      <th>4</th>\n",
       "      <td>Shakira: Bzrp Music Sessions, Vol. 53</td>\n",
       "      <td>[Bizarrap, Shakira]</td>\n",
       "      <td>2023-01-11</td>\n",
       "      <td>False</td>\n",
       "      <td>spotify:track:4nrPB8O7Y7wsOCJdgXkthe</td>\n",
       "      <td>97</td>\n",
       "      <td>mejoresplaylistsspotify</td>\n",
       "      <td>https://open.spotify.com/track/4nrPB8O7Y7wsOCJ...</td>\n",
       "      <td>[716NhGYqD1jl2wI1Qkgq36, 0EmeFodog0BfCgMzAIvKQp]</td>\n",
       "    </tr>\n",
       "  </tbody>\n",
       "</table>\n",
       "</div>"
      ],
      "text/plain": [
       "                                    song                       artist  \\\n",
       "0                                   BESO    [ROSALÍA, Rauw Alejandro]   \n",
       "1                                  TONTA                 NATHY PELUSO   \n",
       "2                            El Merengue  [Marshmello, Manuel Turizo]   \n",
       "3                                 Cupido                         TINI   \n",
       "4  Shakira: Bzrp Music Sessions, Vol. 53          [Bizarrap, Shakira]   \n",
       "\n",
       "         date  explicit                           uri_cancion  popularity  \\\n",
       "0  2023-03-24     False  spotify:track:609E1JCInJncactoMmkDon          97   \n",
       "1  2023-04-21     False  spotify:track:6HzWCIc51HnyGCOVRMH2AI          65   \n",
       "2  2023-03-03     False  spotify:track:51FvjPEGKq2zByeeEQ43V9          91   \n",
       "3  2023-02-14     False  spotify:track:2xVcCDRgG3TrH69TatsUxp          88   \n",
       "4  2023-01-11     False  spotify:track:4nrPB8O7Y7wsOCJdgXkthe          97   \n",
       "\n",
       "                ironhacker                                              links  \\\n",
       "0  mejoresplaylistsspotify  https://open.spotify.com/track/609E1JCInJncact...   \n",
       "1  mejoresplaylistsspotify  https://open.spotify.com/track/6HzWCIc51HnyGCO...   \n",
       "2  mejoresplaylistsspotify  https://open.spotify.com/track/51FvjPEGKq2zBye...   \n",
       "3  mejoresplaylistsspotify  https://open.spotify.com/track/2xVcCDRgG3TrH69...   \n",
       "4  mejoresplaylistsspotify  https://open.spotify.com/track/4nrPB8O7Y7wsOCJ...   \n",
       "\n",
       "                                        uri_artista  \n",
       "0  [7ltDVBr6mKbRvohxheJ9h1, 1mcTU81TzQhprhouKaTkpq]  \n",
       "1                            3VHAySZQPlfGlNLslzXYpN  \n",
       "2  [64KEffDW9EtZ1y2vBYgq8T, 0tmwSHipWxN12fsoLcFU3B]  \n",
       "3                            7vXDAI8JwjW531ouMGbfcp  \n",
       "4  [716NhGYqD1jl2wI1Qkgq36, 0EmeFodog0BfCgMzAIvKQp]  "
      ]
     },
     "execution_count": 6,
     "metadata": {},
     "output_type": "execute_result"
    }
   ],
   "source": [
    "df_all_songs = api.clean_data( all_songs)\n",
    "df_all_songs.head()"
   ]
  },
  {
   "cell_type": "code",
   "execution_count": 7,
   "metadata": {},
   "outputs": [],
   "source": [
    "listas_uris_canciones = df_all_songs[\"uri_cancion\"].unique().tolist()"
   ]
  },
  {
   "cell_type": "code",
   "execution_count": 8,
   "metadata": {},
   "outputs": [
    {
     "data": {
      "text/html": [
       "<div>\n",
       "<style scoped>\n",
       "    .dataframe tbody tr th:only-of-type {\n",
       "        vertical-align: middle;\n",
       "    }\n",
       "\n",
       "    .dataframe tbody tr th {\n",
       "        vertical-align: top;\n",
       "    }\n",
       "\n",
       "    .dataframe thead th {\n",
       "        text-align: right;\n",
       "    }\n",
       "</style>\n",
       "<table border=\"1\" class=\"dataframe\">\n",
       "  <thead>\n",
       "    <tr style=\"text-align: right;\">\n",
       "      <th></th>\n",
       "      <th>song</th>\n",
       "      <th>artist</th>\n",
       "      <th>date</th>\n",
       "      <th>explicit</th>\n",
       "      <th>uri_cancion</th>\n",
       "      <th>popularity</th>\n",
       "      <th>ironhacker</th>\n",
       "      <th>links</th>\n",
       "      <th>uri_artista</th>\n",
       "      <th>danceability</th>\n",
       "      <th>...</th>\n",
       "      <th>liveness</th>\n",
       "      <th>valence</th>\n",
       "      <th>tempo</th>\n",
       "      <th>type</th>\n",
       "      <th>id</th>\n",
       "      <th>uri</th>\n",
       "      <th>track_href</th>\n",
       "      <th>analysis_url</th>\n",
       "      <th>duration_ms</th>\n",
       "      <th>time_signature</th>\n",
       "    </tr>\n",
       "  </thead>\n",
       "  <tbody>\n",
       "    <tr>\n",
       "      <th>0</th>\n",
       "      <td>BESO</td>\n",
       "      <td>[ROSALÍA, Rauw Alejandro]</td>\n",
       "      <td>2023-03-24</td>\n",
       "      <td>False</td>\n",
       "      <td>spotify:track:609E1JCInJncactoMmkDon</td>\n",
       "      <td>97</td>\n",
       "      <td>mejoresplaylistsspotify</td>\n",
       "      <td>https://open.spotify.com/track/609E1JCInJncact...</td>\n",
       "      <td>[7ltDVBr6mKbRvohxheJ9h1, 1mcTU81TzQhprhouKaTkpq]</td>\n",
       "      <td>0.768</td>\n",
       "      <td>...</td>\n",
       "      <td>0.1730</td>\n",
       "      <td>0.530</td>\n",
       "      <td>95.050</td>\n",
       "      <td>audio_features</td>\n",
       "      <td>609E1JCInJncactoMmkDon</td>\n",
       "      <td>spotify:track:609E1JCInJncactoMmkDon</td>\n",
       "      <td>https://api.spotify.com/v1/tracks/609E1JCInJnc...</td>\n",
       "      <td>https://api.spotify.com/v1/audio-analysis/609E...</td>\n",
       "      <td>194543</td>\n",
       "      <td>4</td>\n",
       "    </tr>\n",
       "    <tr>\n",
       "      <th>1</th>\n",
       "      <td>TONTA</td>\n",
       "      <td>NATHY PELUSO</td>\n",
       "      <td>2023-04-21</td>\n",
       "      <td>False</td>\n",
       "      <td>spotify:track:6HzWCIc51HnyGCOVRMH2AI</td>\n",
       "      <td>65</td>\n",
       "      <td>mejoresplaylistsspotify</td>\n",
       "      <td>https://open.spotify.com/track/6HzWCIc51HnyGCO...</td>\n",
       "      <td>3VHAySZQPlfGlNLslzXYpN</td>\n",
       "      <td>0.761</td>\n",
       "      <td>...</td>\n",
       "      <td>0.0817</td>\n",
       "      <td>0.642</td>\n",
       "      <td>131.975</td>\n",
       "      <td>audio_features</td>\n",
       "      <td>6HzWCIc51HnyGCOVRMH2AI</td>\n",
       "      <td>spotify:track:6HzWCIc51HnyGCOVRMH2AI</td>\n",
       "      <td>https://api.spotify.com/v1/tracks/6HzWCIc51Hny...</td>\n",
       "      <td>https://api.spotify.com/v1/audio-analysis/6HzW...</td>\n",
       "      <td>203864</td>\n",
       "      <td>3</td>\n",
       "    </tr>\n",
       "  </tbody>\n",
       "</table>\n",
       "<p>2 rows × 27 columns</p>\n",
       "</div>"
      ],
      "text/plain": [
       "    song                     artist        date  explicit  \\\n",
       "0   BESO  [ROSALÍA, Rauw Alejandro]  2023-03-24     False   \n",
       "1  TONTA               NATHY PELUSO  2023-04-21     False   \n",
       "\n",
       "                            uri_cancion  popularity               ironhacker  \\\n",
       "0  spotify:track:609E1JCInJncactoMmkDon          97  mejoresplaylistsspotify   \n",
       "1  spotify:track:6HzWCIc51HnyGCOVRMH2AI          65  mejoresplaylistsspotify   \n",
       "\n",
       "                                               links  \\\n",
       "0  https://open.spotify.com/track/609E1JCInJncact...   \n",
       "1  https://open.spotify.com/track/6HzWCIc51HnyGCO...   \n",
       "\n",
       "                                        uri_artista  danceability  ...  \\\n",
       "0  [7ltDVBr6mKbRvohxheJ9h1, 1mcTU81TzQhprhouKaTkpq]         0.768  ...   \n",
       "1                            3VHAySZQPlfGlNLslzXYpN         0.761  ...   \n",
       "\n",
       "   liveness  valence    tempo            type                      id  \\\n",
       "0    0.1730    0.530   95.050  audio_features  609E1JCInJncactoMmkDon   \n",
       "1    0.0817    0.642  131.975  audio_features  6HzWCIc51HnyGCOVRMH2AI   \n",
       "\n",
       "                                    uri  \\\n",
       "0  spotify:track:609E1JCInJncactoMmkDon   \n",
       "1  spotify:track:6HzWCIc51HnyGCOVRMH2AI   \n",
       "\n",
       "                                          track_href  \\\n",
       "0  https://api.spotify.com/v1/tracks/609E1JCInJnc...   \n",
       "1  https://api.spotify.com/v1/tracks/6HzWCIc51Hny...   \n",
       "\n",
       "                                        analysis_url  duration_ms  \\\n",
       "0  https://api.spotify.com/v1/audio-analysis/609E...       194543   \n",
       "1  https://api.spotify.com/v1/audio-analysis/6HzW...       203864   \n",
       "\n",
       "   time_signature  \n",
       "0               4  \n",
       "1               3  \n",
       "\n",
       "[2 rows x 27 columns]"
      ]
     },
     "execution_count": 8,
     "metadata": {},
     "output_type": "execute_result"
    }
   ],
   "source": [
    "df_final = api.get_features(sp, df_all_songs, listas_uris_canciones )\n",
    "df_final.head(2)"
   ]
  },
  {
   "cell_type": "code",
   "execution_count": 9,
   "metadata": {},
   "outputs": [
    {
     "data": {
      "text/html": [
       "<div>\n",
       "<style scoped>\n",
       "    .dataframe tbody tr th:only-of-type {\n",
       "        vertical-align: middle;\n",
       "    }\n",
       "\n",
       "    .dataframe tbody tr th {\n",
       "        vertical-align: top;\n",
       "    }\n",
       "\n",
       "    .dataframe thead th {\n",
       "        text-align: right;\n",
       "    }\n",
       "</style>\n",
       "<table border=\"1\" class=\"dataframe\">\n",
       "  <thead>\n",
       "    <tr style=\"text-align: right;\">\n",
       "      <th></th>\n",
       "      <th>song</th>\n",
       "      <th>date</th>\n",
       "      <th>popularity</th>\n",
       "      <th>ironhacker</th>\n",
       "      <th>artist</th>\n",
       "      <th>uri_artista</th>\n",
       "      <th>uri_cancion</th>\n",
       "    </tr>\n",
       "  </thead>\n",
       "  <tbody>\n",
       "    <tr>\n",
       "      <th>0</th>\n",
       "      <td>BESO</td>\n",
       "      <td>2023-03-24</td>\n",
       "      <td>97</td>\n",
       "      <td>mejoresplaylistsspotify</td>\n",
       "      <td>ROSALÍA</td>\n",
       "      <td>7ltDVBr6mKbRvohxheJ9h1</td>\n",
       "      <td>spotify:track:609E1JCInJncactoMmkDon</td>\n",
       "    </tr>\n",
       "    <tr>\n",
       "      <th>0</th>\n",
       "      <td>BESO</td>\n",
       "      <td>2023-03-24</td>\n",
       "      <td>97</td>\n",
       "      <td>mejoresplaylistsspotify</td>\n",
       "      <td>ROSALÍA</td>\n",
       "      <td>1mcTU81TzQhprhouKaTkpq</td>\n",
       "      <td>spotify:track:609E1JCInJncactoMmkDon</td>\n",
       "    </tr>\n",
       "  </tbody>\n",
       "</table>\n",
       "</div>"
      ],
      "text/plain": [
       "   song        date  popularity               ironhacker   artist  \\\n",
       "0  BESO  2023-03-24          97  mejoresplaylistsspotify  ROSALÍA   \n",
       "0  BESO  2023-03-24          97  mejoresplaylistsspotify  ROSALÍA   \n",
       "\n",
       "              uri_artista                           uri_cancion  \n",
       "0  7ltDVBr6mKbRvohxheJ9h1  spotify:track:609E1JCInJncactoMmkDon  \n",
       "0  1mcTU81TzQhprhouKaTkpq  spotify:track:609E1JCInJncactoMmkDon  "
      ]
     },
     "execution_count": 9,
     "metadata": {},
     "output_type": "execute_result"
    }
   ],
   "source": [
    "df_final = api.clean_df(df_final)\n",
    "df_final.head(2)"
   ]
  },
  {
   "cell_type": "code",
   "execution_count": 16,
   "metadata": {},
   "outputs": [
    {
     "data": {
      "text/plain": [
       "145"
      ]
     },
     "execution_count": 16,
     "metadata": {},
     "output_type": "execute_result"
    }
   ],
   "source": [
    "uri_artistas = df_final[\"uri_artista\"].unique()\n",
    "len(uri_artistas)"
   ]
  },
  {
   "cell_type": "code",
   "execution_count": 11,
   "metadata": {},
   "outputs": [
    {
     "data": {
      "text/html": [
       "<div>\n",
       "<style scoped>\n",
       "    .dataframe tbody tr th:only-of-type {\n",
       "        vertical-align: middle;\n",
       "    }\n",
       "\n",
       "    .dataframe tbody tr th {\n",
       "        vertical-align: top;\n",
       "    }\n",
       "\n",
       "    .dataframe thead th {\n",
       "        text-align: right;\n",
       "    }\n",
       "</style>\n",
       "<table border=\"1\" class=\"dataframe\">\n",
       "  <thead>\n",
       "    <tr style=\"text-align: right;\">\n",
       "      <th></th>\n",
       "      <th>artist_name</th>\n",
       "      <th>album_name</th>\n",
       "      <th>release_date</th>\n",
       "      <th>total_tracks</th>\n",
       "    </tr>\n",
       "  </thead>\n",
       "  <tbody>\n",
       "    <tr>\n",
       "      <th>0</th>\n",
       "      <td>ROSALÍA</td>\n",
       "      <td>Motomami +</td>\n",
       "      <td>2022-09-09</td>\n",
       "      <td>24</td>\n",
       "    </tr>\n",
       "    <tr>\n",
       "      <th>1</th>\n",
       "      <td>ROSALÍA</td>\n",
       "      <td>Motomami</td>\n",
       "      <td>2022-03-18</td>\n",
       "      <td>16</td>\n",
       "    </tr>\n",
       "    <tr>\n",
       "      <th>2</th>\n",
       "      <td>ROSALÍA</td>\n",
       "      <td>El Mal Querer</td>\n",
       "      <td>2018-11-02</td>\n",
       "      <td>11</td>\n",
       "    </tr>\n",
       "    <tr>\n",
       "      <th>3</th>\n",
       "      <td>ROSALÍA</td>\n",
       "      <td>Los Ángeles</td>\n",
       "      <td>2017-02-10</td>\n",
       "      <td>12</td>\n",
       "    </tr>\n",
       "    <tr>\n",
       "      <th>4</th>\n",
       "      <td>ROSALÍA</td>\n",
       "      <td>Rr</td>\n",
       "      <td>2023-03-24</td>\n",
       "      <td>3</td>\n",
       "    </tr>\n",
       "  </tbody>\n",
       "</table>\n",
       "</div>"
      ],
      "text/plain": [
       "  artist_name     album_name release_date  total_tracks\n",
       "0     ROSALÍA     Motomami +   2022-09-09            24\n",
       "1     ROSALÍA       Motomami   2022-03-18            16\n",
       "2     ROSALÍA  El Mal Querer   2018-11-02            11\n",
       "3     ROSALÍA    Los Ángeles   2017-02-10            12\n",
       "4     ROSALÍA             Rr   2023-03-24             3"
      ]
     },
     "execution_count": 11,
     "metadata": {},
     "output_type": "execute_result"
    }
   ],
   "source": [
    "df_artistas_albumes = api.get_artist_album(sp, uri_artistas)\n",
    "df_artistas_albumes.head()"
   ]
  },
  {
   "cell_type": "code",
   "execution_count": 12,
   "metadata": {},
   "outputs": [
    {
     "data": {
      "text/html": [
       "<div>\n",
       "<style scoped>\n",
       "    .dataframe tbody tr th:only-of-type {\n",
       "        vertical-align: middle;\n",
       "    }\n",
       "\n",
       "    .dataframe tbody tr th {\n",
       "        vertical-align: top;\n",
       "    }\n",
       "\n",
       "    .dataframe thead th {\n",
       "        text-align: right;\n",
       "    }\n",
       "</style>\n",
       "<table border=\"1\" class=\"dataframe\">\n",
       "  <thead>\n",
       "    <tr style=\"text-align: right;\">\n",
       "      <th></th>\n",
       "      <th>artist_name</th>\n",
       "      <th>artist_id</th>\n",
       "      <th>followers</th>\n",
       "      <th>genres</th>\n",
       "      <th>popularity</th>\n",
       "    </tr>\n",
       "  </thead>\n",
       "  <tbody>\n",
       "    <tr>\n",
       "      <th>0</th>\n",
       "      <td>ROSALÍA</td>\n",
       "      <td>7ltDVBr6mKbRvohxheJ9h1</td>\n",
       "      <td>7142072</td>\n",
       "      <td>[pop, r&amp;b en espanol]</td>\n",
       "      <td>87</td>\n",
       "    </tr>\n",
       "    <tr>\n",
       "      <th>0</th>\n",
       "      <td>Rauw Alejandro</td>\n",
       "      <td>1mcTU81TzQhprhouKaTkpq</td>\n",
       "      <td>16500785</td>\n",
       "      <td>[puerto rican pop, reggaeton, trap latino, urb...</td>\n",
       "      <td>90</td>\n",
       "    </tr>\n",
       "    <tr>\n",
       "      <th>0</th>\n",
       "      <td>NATHY PELUSO</td>\n",
       "      <td>3VHAySZQPlfGlNLslzXYpN</td>\n",
       "      <td>1022729</td>\n",
       "      <td>[r&amp;b en espanol, rap latina]</td>\n",
       "      <td>67</td>\n",
       "    </tr>\n",
       "    <tr>\n",
       "      <th>0</th>\n",
       "      <td>Marshmello</td>\n",
       "      <td>64KEffDW9EtZ1y2vBYgq8T</td>\n",
       "      <td>35037141</td>\n",
       "      <td>[brostep, edm, pop, progressive electro house]</td>\n",
       "      <td>84</td>\n",
       "    </tr>\n",
       "    <tr>\n",
       "      <th>0</th>\n",
       "      <td>Manuel Turizo</td>\n",
       "      <td>0tmwSHipWxN12fsoLcFU3B</td>\n",
       "      <td>11986870</td>\n",
       "      <td>[colombian pop, reggaeton, reggaeton colombian...</td>\n",
       "      <td>84</td>\n",
       "    </tr>\n",
       "  </tbody>\n",
       "</table>\n",
       "</div>"
      ],
      "text/plain": [
       "      artist_name               artist_id  followers  \\\n",
       "0         ROSALÍA  7ltDVBr6mKbRvohxheJ9h1    7142072   \n",
       "0  Rauw Alejandro  1mcTU81TzQhprhouKaTkpq   16500785   \n",
       "0    NATHY PELUSO  3VHAySZQPlfGlNLslzXYpN    1022729   \n",
       "0      Marshmello  64KEffDW9EtZ1y2vBYgq8T   35037141   \n",
       "0   Manuel Turizo  0tmwSHipWxN12fsoLcFU3B   11986870   \n",
       "\n",
       "                                              genres  popularity  \n",
       "0                              [pop, r&b en espanol]          87  \n",
       "0  [puerto rican pop, reggaeton, trap latino, urb...          90  \n",
       "0                       [r&b en espanol, rap latina]          67  \n",
       "0     [brostep, edm, pop, progressive electro house]          84  \n",
       "0  [colombian pop, reggaeton, reggaeton colombian...          84  "
      ]
     },
     "execution_count": 12,
     "metadata": {},
     "output_type": "execute_result"
    }
   ],
   "source": [
    "df_info_artistas = api.get_artist_data(sp, uri_artistas)\n",
    "df_info_artistas.head()"
   ]
  },
  {
   "cell_type": "code",
   "execution_count": 13,
   "metadata": {},
   "outputs": [
    {
     "data": {
      "text/plain": [
       "False"
      ]
     },
     "execution_count": 13,
     "metadata": {},
     "output_type": "execute_result"
    }
   ],
   "source": [
    "len(df_info_artistas[\"artist_name\"].unique()) == len(df_artistas_albumes[\"artist_name\"].unique())"
   ]
  },
  {
   "cell_type": "code",
   "execution_count": null,
   "metadata": {},
   "outputs": [],
   "source": []
  }
 ],
 "metadata": {
  "kernelspec": {
   "display_name": "ironhack",
   "language": "python",
   "name": "python3"
  },
  "language_info": {
   "codemirror_mode": {
    "name": "ipython",
    "version": 3
   },
   "file_extension": ".py",
   "mimetype": "text/x-python",
   "name": "python",
   "nbconvert_exporter": "python",
   "pygments_lexer": "ipython3",
   "version": "3.10.10"
  },
  "orig_nbformat": 4
 },
 "nbformat": 4,
 "nbformat_minor": 2
}
